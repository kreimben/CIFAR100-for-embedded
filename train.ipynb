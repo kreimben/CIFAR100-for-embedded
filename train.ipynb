{
 "cells": [
  {
   "cell_type": "markdown",
   "source": [
    "# To build and train resnet, use the pytorch"
   ],
   "metadata": {
    "collapsed": false
   },
   "id": "9d23eeffd64a04ea"
  },
  {
   "cell_type": "code",
   "outputs": [],
   "source": [
    "import os\n",
    "import time\n",
    "from datetime import datetime\n",
    "\n",
    "import numpy as np\n",
    "import pandas as pd\n",
    "import torch\n",
    "import torch.nn as nn\n",
    "import torch.optim as optim\n",
    "from accelerate import Accelerator\n",
    "from evaluate import load\n",
    "from matplotlib import pyplot as plt\n",
    "from torch.utils.data import DataLoader\n",
    "from torchvision import datasets, transforms, models"
   ],
   "metadata": {
    "collapsed": false,
    "ExecuteTime": {
     "end_time": "2024-03-30T23:42:20.248692Z",
     "start_time": "2024-03-30T23:42:16.113709Z"
    }
   },
   "id": "32ab82eaf911b3a0",
   "execution_count": 1
  },
  {
   "cell_type": "code",
   "outputs": [],
   "source": [
    "# Set device\n",
    "accelerator = Accelerator(device_placement=True)\n",
    "device = accelerator.device"
   ],
   "metadata": {
    "collapsed": false,
    "ExecuteTime": {
     "end_time": "2024-03-30T23:42:20.295704Z",
     "start_time": "2024-03-30T23:42:20.249692Z"
    }
   },
   "id": "a11ab87be5940bdc",
   "execution_count": 2
  },
  {
   "cell_type": "code",
   "outputs": [],
   "source": [
    "# Define hyperparameters\n",
    "num_epochs = 70\n",
    "batch_size = 2 ** 7"
   ],
   "metadata": {
    "collapsed": false,
    "ExecuteTime": {
     "end_time": "2024-03-30T23:42:20.311707Z",
     "start_time": "2024-03-30T23:42:20.296704Z"
    }
   },
   "id": "5df28acc8474caaa",
   "execution_count": 3
  },
  {
   "cell_type": "code",
   "outputs": [],
   "source": [
    "# weights = models.ResNet50_Weights.DEFAULT"
   ],
   "metadata": {
    "collapsed": false,
    "ExecuteTime": {
     "end_time": "2024-03-30T23:42:20.327213Z",
     "start_time": "2024-03-30T23:42:20.312708Z"
    }
   },
   "id": "79747d67192f9c2f",
   "execution_count": 4
  },
  {
   "cell_type": "code",
   "outputs": [],
   "source": [
    "norm = transforms.Normalize((0.5071, 0.4867, 0.4408), (0.2675, 0.2565, 0.2761))\n",
    "\n",
    "transform_train = transforms.Compose([\n",
    "    transforms.RandomCrop(32, padding=4),\n",
    "    transforms.RandomHorizontalFlip(),\n",
    "    transforms.ToTensor(),\n",
    "    norm,\n",
    "])\n",
    "\n",
    "transform_test = transforms.Compose([\n",
    "    transforms.ToTensor(),\n",
    "    norm,\n",
    "])"
   ],
   "metadata": {
    "collapsed": false,
    "ExecuteTime": {
     "end_time": "2024-03-30T23:42:20.343219Z",
     "start_time": "2024-03-30T23:42:20.328215Z"
    }
   },
   "id": "42e5a84ca23a9ac9",
   "execution_count": 5
  },
  {
   "cell_type": "code",
   "outputs": [
    {
     "name": "stdout",
     "output_type": "stream",
     "text": [
      "Files already downloaded and verified\n",
      "Files already downloaded and verified\n"
     ]
    }
   ],
   "source": [
    "# Load CIFAR-100 dataset\n",
    "train_dataset = datasets.CIFAR100(root='./data', train=True, download=True, transform=transform_train)\n",
    "test_dataset = datasets.CIFAR100(root='./data', train=False, download=True, transform=transform_test)\n",
    "\n",
    "train_dataloader = DataLoader(train_dataset, batch_size=batch_size, shuffle=True)\n",
    "test_dataloader = DataLoader(test_dataset, batch_size=batch_size, shuffle=False)"
   ],
   "metadata": {
    "collapsed": false,
    "ExecuteTime": {
     "end_time": "2024-03-30T23:42:21.437781Z",
     "start_time": "2024-03-30T23:42:20.344219Z"
    }
   },
   "id": "4f73415ebe7ccc25",
   "execution_count": 6
  },
  {
   "cell_type": "code",
   "outputs": [
    {
     "name": "stdout",
     "output_type": "stream",
     "text": [
      "Files already downloaded and verified\n",
      "(10000, 32, 32, 3)\n"
     ]
    },
    {
     "data": {
      "text/plain": "<Figure size 640x480 with 1 Axes>",
      "image/png": "[encoded data removed]"
     },
     "metadata": {},
     "output_type": "display_data"
    },
    {
     "name": "stdout",
     "output_type": "stream",
     "text": [
      "maple_tree\n"
     ]
    }
   ],
   "source": [
    "d = datasets.CIFAR100(root='./data', train=False, download=True)\n",
    "print(f'{d.data.shape}')\n",
    "\n",
    "# Randomly select an image from the training dataset\n",
    "index = np.random.randint(0, len(d))\n",
    "image, label = d[index]\n",
    "target = d.classes[label]\n",
    "\n",
    "# Plot the image\n",
    "plt.imshow(image)\n",
    "plt.title(f\"Label: {target}\")\n",
    "plt.axis('off')\n",
    "plt.show()\n",
    "print(target)\n",
    "\n",
    "del index, image, label, target, plt, d"
   ],
   "metadata": {
    "collapsed": false,
    "ExecuteTime": {
     "end_time": "2024-03-30T23:42:21.992615Z",
     "start_time": "2024-03-30T23:42:21.438781Z"
    }
   },
   "id": "6e7f3771b17c7b71",
   "execution_count": 7
  },
  {
   "cell_type": "code",
   "outputs": [],
   "source": [
    "# Load model architecture.\n",
    "model = models.resnet50(weights=None)\n",
    "# model.eval()\n",
    "\n",
    "model.fc = nn.Linear(model.fc.in_features, 100)  # resnet\n",
    "\n",
    "# Define loss function and optimizer\n",
    "criterion = nn.CrossEntropyLoss()\n",
    "optimizer = optim.SGD(model.parameters(), lr=0.01, momentum=0.9, weight_decay=.001)\n",
    "scheduler = torch.optim.lr_scheduler.CosineAnnealingLR(optimizer, T_max=200)\n",
    "\n",
    "model, optimizer, scheduler, train_dataloader, test_dataloader = accelerator.prepare(\n",
    "    model, optimizer, scheduler, train_dataloader, test_dataloader\n",
    ")"
   ],
   "metadata": {
    "collapsed": false,
    "ExecuteTime": {
     "end_time": "2024-03-30T23:42:22.373401Z",
     "start_time": "2024-03-30T23:42:21.993616Z"
    }
   },
   "id": "db5c6c427dc4c05f",
   "execution_count": 8
  },
  {
   "cell_type": "code",
   "outputs": [],
   "source": [
    "# Load evaluation metrics\n",
    "accuracy = load(\"accuracy\")\n",
    "f1 = load(\"f1\")"
   ],
   "metadata": {
    "collapsed": false,
    "ExecuteTime": {
     "end_time": "2024-03-30T23:42:25.488919Z",
     "start_time": "2024-03-30T23:42:22.374401Z"
    }
   },
   "id": "70d826dedc62abc8",
   "execution_count": 9
  },
  {
   "cell_type": "code",
   "outputs": [
    {
     "name": "stdout",
     "output_type": "stream",
     "text": [
      "Epoch [1/70]: Train Loss: 4.4598, Test Loss: 3.8419, Train Accuracy: 0.062, Test Accuracy: 0.1160, Test F1: 0.0820, lr: 0.009999383162408303, Elapsed Time: 0:00:22, Average Ineference Time: 7.270 ms.\n",
      "Epoch [2/70]: Train Loss: 3.7961, Test Loss: 3.6095, Train Accuracy: 0.125, Test Accuracy: 0.1652, Test F1: 0.1397, lr: 0.009997532801828657, Elapsed Time: 0:00:21, Average Ineference Time: 6.606 ms.\n",
      "Epoch [3/70]: Train Loss: 3.5226, Test Loss: 3.4005, Train Accuracy: 0.165, Test Accuracy: 0.2100, Test F1: 0.1919, lr: 0.00999444937480985, Elapsed Time: 0:00:21, Average Ineference Time: 6.674 ms.\n",
      "Epoch [4/70]: Train Loss: 3.3148, Test Loss: 3.2266, Train Accuracy: 0.199, Test Accuracy: 0.2307, Test F1: 0.2115, lr: 0.009990133642141357, Elapsed Time: 0:00:21, Average Ineference Time: 6.799 ms.\n",
      "Epoch [5/70]: Train Loss: 3.1751, Test Loss: 3.1638, Train Accuracy: 0.222, Test Accuracy: 0.2504, Test F1: 0.2293, lr: 0.009984586668665639, Elapsed Time: 0:00:21, Average Ineference Time: 6.590 ms.\n",
      "Epoch [6/70]: Train Loss: 3.0436, Test Loss: 2.9920, Train Accuracy: 0.244, Test Accuracy: 0.2720, Test F1: 0.2511, lr: 0.009977809823015398, Elapsed Time: 0:00:21, Average Ineference Time: 6.589 ms.\n",
      "Epoch [7/70]: Train Loss: 2.9255, Test Loss: 3.0431, Train Accuracy: 0.265, Test Accuracy: 0.2804, Test F1: 0.2648, lr: 0.009969804777275897, Elapsed Time: 0:00:21, Average Ineference Time: 6.606 ms.\n",
      "Epoch [8/70]: Train Loss: 2.8315, Test Loss: 2.9222, Train Accuracy: 0.287, Test Accuracy: 0.2957, Test F1: 0.2782, lr: 0.009960573506572387, Elapsed Time: 0:00:21, Average Ineference Time: 6.600 ms.\n",
      "Epoch [9/70]: Train Loss: 2.7269, Test Loss: 2.7959, Train Accuracy: 0.307, Test Accuracy: 0.3200, Test F1: 0.3088, lr: 0.009950118288582784, Elapsed Time: 0:00:21, Average Ineference Time: 6.648 ms.\n",
      "Epoch [10/70]: Train Loss: 2.6350, Test Loss: 2.7588, Train Accuracy: 0.324, Test Accuracy: 0.3225, Test F1: 0.3104, lr: 0.009938441702975684, Elapsed Time: 0:00:21, Average Ineference Time: 6.479 ms.\n",
      "Epoch [11/70]: Train Loss: 2.5501, Test Loss: 2.6926, Train Accuracy: 0.339, Test Accuracy: 0.3374, Test F1: 0.3200, lr: 0.009925546630773864, Elapsed Time: 0:00:21, Average Ineference Time: 6.502 ms.\n",
      "Epoch [12/70]: Train Loss: 2.4770, Test Loss: 2.7623, Train Accuracy: 0.357, Test Accuracy: 0.3468, Test F1: 0.3364, lr: 0.009911436253643439, Elapsed Time: 0:00:21, Average Ineference Time: 6.547 ms.\n",
      "Epoch [13/70]: Train Loss: 2.4120, Test Loss: 2.7325, Train Accuracy: 0.372, Test Accuracy: 0.3394, Test F1: 0.3363, lr: 0.009896114053108824, Elapsed Time: 0:00:21, Average Ineference Time: 6.542 ms.\n",
      "Epoch [14/70]: Train Loss: 2.3851, Test Loss: 2.4984, Train Accuracy: 0.376, Test Accuracy: 0.3706, Test F1: 0.3622, lr: 0.009879583809693733, Elapsed Time: 0:00:21, Average Ineference Time: 6.578 ms.\n",
      "Epoch [15/70]: Train Loss: 2.2855, Test Loss: 2.4537, Train Accuracy: 0.396, Test Accuracy: 0.3856, Test F1: 0.3810, lr: 0.009861849601988378, Elapsed Time: 0:00:21, Average Ineference Time: 6.414 ms.\n",
      "Epoch [16/70]: Train Loss: 2.2012, Test Loss: 2.4360, Train Accuracy: 0.413, Test Accuracy: 0.3852, Test F1: 0.3819, lr: 0.00984291580564315, Elapsed Time: 0:00:21, Average Ineference Time: 6.459 ms.\n",
      "Epoch [17/70]: Train Loss: 2.2138, Test Loss: 2.5208, Train Accuracy: 0.413, Test Accuracy: 0.3586, Test F1: 0.3590, lr: 0.009822787092288985, Elapsed Time: 0:00:21, Average Ineference Time: 6.618 ms.\n",
      "Epoch [18/70]: Train Loss: 2.1728, Test Loss: 2.4332, Train Accuracy: 0.419, Test Accuracy: 0.3862, Test F1: 0.3798, lr: 0.00980146842838471, Elapsed Time: 0:00:21, Average Ineference Time: 6.402 ms.\n",
      "Epoch [19/70]: Train Loss: 2.0553, Test Loss: 2.4673, Train Accuracy: 0.446, Test Accuracy: 0.4025, Test F1: 0.3954, lr: 0.009778965073991645, Elapsed Time: 0:00:21, Average Ineference Time: 6.515 ms.\n",
      "Epoch [20/70]: Train Loss: 1.9967, Test Loss: 2.3227, Train Accuracy: 0.457, Test Accuracy: 0.4039, Test F1: 0.4011, lr: 0.009755282581475762, Elapsed Time: 0:00:21, Average Ineference Time: 6.527 ms.\n",
      "Epoch [21/70]: Train Loss: 1.9196, Test Loss: 2.2826, Train Accuracy: 0.473, Test Accuracy: 0.4191, Test F1: 0.4118, lr: 0.00973042679413772, Elapsed Time: 0:00:21, Average Ineference Time: 6.527 ms.\n",
      "Epoch [22/70]: Train Loss: 1.8376, Test Loss: 2.3030, Train Accuracy: 0.494, Test Accuracy: 0.4217, Test F1: 0.4207, lr: 0.00970440384477112, Elapsed Time: 0:00:21, Average Ineference Time: 6.521 ms.\n",
      "Epoch [23/70]: Train Loss: 1.7841, Test Loss: 2.2667, Train Accuracy: 0.503, Test Accuracy: 0.4261, Test F1: 0.4222, lr: 0.00967722015414933, Elapsed Time: 0:00:21, Average Ineference Time: 6.579 ms.\n",
      "Epoch [24/70]: Train Loss: 1.7085, Test Loss: 2.2146, Train Accuracy: 0.521, Test Accuracy: 0.4355, Test F1: 0.4321, lr: 0.00964888242944125, Elapsed Time: 0:00:21, Average Ineference Time: 6.534 ms.\n",
      "Epoch [25/70]: Train Loss: 1.6569, Test Loss: 2.1566, Train Accuracy: 0.531, Test Accuracy: 0.4463, Test F1: 0.4422, lr: 0.009619397662556426, Elapsed Time: 0:00:21, Average Ineference Time: 6.623 ms.\n",
      "Epoch [26/70]: Train Loss: 1.5976, Test Loss: 2.2083, Train Accuracy: 0.547, Test Accuracy: 0.4411, Test F1: 0.4410, lr: 0.009588773128419898, Elapsed Time: 0:00:21, Average Ineference Time: 6.490 ms.\n",
      "Epoch [27/70]: Train Loss: 1.5292, Test Loss: 2.1773, Train Accuracy: 0.565, Test Accuracy: 0.4479, Test F1: 0.4466, lr: 0.009557016383177219, Elapsed Time: 0:00:21, Average Ineference Time: 6.576 ms.\n",
      "Epoch [28/70]: Train Loss: 1.4875, Test Loss: 2.2027, Train Accuracy: 0.573, Test Accuracy: 0.4541, Test F1: 0.4500, lr: 0.009524135262330091, Elapsed Time: 0:00:21, Average Ineference Time: 6.446 ms.\n",
      "Epoch [29/70]: Train Loss: 1.4243, Test Loss: 2.1304, Train Accuracy: 0.592, Test Accuracy: 0.4586, Test F1: 0.4583, lr: 0.009490137878803071, Elapsed Time: 0:00:21, Average Ineference Time: 6.567 ms.\n",
      "Epoch [30/70]: Train Loss: 1.3754, Test Loss: 2.1646, Train Accuracy: 0.602, Test Accuracy: 0.4569, Test F1: 0.4484, lr: 0.009455032620941833, Elapsed Time: 0:00:21, Average Ineference Time: 6.473 ms.\n",
      "Epoch [31/70]: Train Loss: 1.3323, Test Loss: 2.1379, Train Accuracy: 0.615, Test Accuracy: 0.4649, Test F1: 0.4634, lr: 0.009418828150443462, Elapsed Time: 0:00:21, Average Ineference Time: 6.497 ms.\n",
      "Epoch [32/70]: Train Loss: 1.2747, Test Loss: 2.2196, Train Accuracy: 0.625, Test Accuracy: 0.4629, Test F1: 0.4641, lr: 0.009381533400219312, Elapsed Time: 0:00:21, Average Ineference Time: 6.414 ms.\n",
      "Epoch [33/70]: Train Loss: 1.2343, Test Loss: 2.2128, Train Accuracy: 0.634, Test Accuracy: 0.4657, Test F1: 0.4634, lr: 0.00934315757219095, Elapsed Time: 0:00:21, Average Ineference Time: 6.452 ms.\n",
      "Epoch [34/70]: Train Loss: 1.1838, Test Loss: 2.1653, Train Accuracy: 0.651, Test Accuracy: 0.4748, Test F1: 0.4739, lr: 0.009303710135019712, Elapsed Time: 0:00:21, Average Ineference Time: 6.559 ms.\n",
      "Epoch [35/70]: Train Loss: 1.1447, Test Loss: 2.1465, Train Accuracy: 0.659, Test Accuracy: 0.4660, Test F1: 0.4656, lr: 0.009263200821770455, Elapsed Time: 0:00:21, Average Ineference Time: 6.625 ms.\n",
      "Epoch [36/70]: Train Loss: 1.0927, Test Loss: 2.1714, Train Accuracy: 0.674, Test Accuracy: 0.4684, Test F1: 0.4641, lr: 0.009221639627510068, Elapsed Time: 0:00:21, Average Ineference Time: 6.629 ms.\n",
      "Epoch [37/70]: Train Loss: 1.0695, Test Loss: 2.1140, Train Accuracy: 0.682, Test Accuracy: 0.4755, Test F1: 0.4722, lr: 0.009179036806841345, Elapsed Time: 0:00:21, Average Ineference Time: 6.541 ms.\n",
      "Epoch [38/70]: Train Loss: 1.0292, Test Loss: 2.1774, Train Accuracy: 0.693, Test Accuracy: 0.4695, Test F1: 0.4635, lr: 0.009135402871372801, Elapsed Time: 0:00:21, Average Ineference Time: 6.676 ms.\n",
      "Epoch [39/70]: Train Loss: 0.9784, Test Loss: 2.3003, Train Accuracy: 0.705, Test Accuracy: 0.4601, Test F1: 0.4600, lr: 0.00909074858712511, Elapsed Time: 0:00:21, Average Ineference Time: 6.502 ms.\n",
      "Epoch [40/70]: Train Loss: 0.9542, Test Loss: 2.2387, Train Accuracy: 0.711, Test Accuracy: 0.4668, Test F1: 0.4634, lr: 0.00904508497187473, Elapsed Time: 0:00:21, Average Ineference Time: 6.673 ms.\n",
      "Epoch [41/70]: Train Loss: 0.9161, Test Loss: 2.1813, Train Accuracy: 0.724, Test Accuracy: 0.4785, Test F1: 0.4755, lr: 0.008998423292435446, Elapsed Time: 0:00:21, Average Ineference Time: 6.540 ms.\n",
      "Epoch [42/70]: Train Loss: 0.8800, Test Loss: 2.2231, Train Accuracy: 0.733, Test Accuracy: 0.4772, Test F1: 0.4730, lr: 0.008950775061878444, Elapsed Time: 0:00:21, Average Ineference Time: 6.593 ms.\n",
      "Epoch [43/70]: Train Loss: 0.8604, Test Loss: 2.1706, Train Accuracy: 0.738, Test Accuracy: 0.4825, Test F1: 0.4800, lr: 0.008902152036691641, Elapsed Time: 0:00:21, Average Ineference Time: 6.465 ms.\n",
      "Epoch [44/70]: Train Loss: 0.8180, Test Loss: 2.1966, Train Accuracy: 0.752, Test Accuracy: 0.4788, Test F1: 0.4775, lr: 0.008852566213878938, Elapsed Time: 0:00:21, Average Ineference Time: 6.585 ms.\n",
      "Epoch [45/70]: Train Loss: 0.7904, Test Loss: 2.2467, Train Accuracy: 0.760, Test Accuracy: 0.4748, Test F1: 0.4727, lr: 0.008802029828000147, Elapsed Time: 0:00:21, Average Ineference Time: 6.521 ms.\n",
      "Epoch [46/70]: Train Loss: 0.7678, Test Loss: 2.1850, Train Accuracy: 0.766, Test Accuracy: 0.4830, Test F1: 0.4807, lr: 0.00875055534815229, Elapsed Time: 0:00:21, Average Ineference Time: 6.610 ms.\n",
      "Epoch [47/70]: Train Loss: 0.7244, Test Loss: 2.2363, Train Accuracy: 0.779, Test Accuracy: 0.4822, Test F1: 0.4821, lr: 0.008698155474893039, Elapsed Time: 0:00:21, Average Ineference Time: 6.527 ms.\n",
      "Epoch [48/70]: Train Loss: 0.7175, Test Loss: 2.2370, Train Accuracy: 0.782, Test Accuracy: 0.4774, Test F1: 0.4765, lr: 0.008644843137107049, Elapsed Time: 0:00:21, Average Ineference Time: 6.579 ms.\n",
      "Epoch [49/70]: Train Loss: 0.6941, Test Loss: 2.3248, Train Accuracy: 0.789, Test Accuracy: 0.4714, Test F1: 0.4691, lr: 0.008590631488815937, Elapsed Time: 0:00:21, Average Ineference Time: 6.559 ms.\n",
      "Epoch [50/70]: Train Loss: 0.6682, Test Loss: 2.3589, Train Accuracy: 0.798, Test Accuracy: 0.4695, Test F1: 0.4682, lr: 0.00853553390593273, Elapsed Time: 0:00:21, Average Ineference Time: 6.667 ms.\n",
      "Epoch [51/70]: Train Loss: 0.6402, Test Loss: 2.1863, Train Accuracy: 0.806, Test Accuracy: 0.4942, Test F1: 0.4922, lr: 0.008479563982961564, Elapsed Time: 0:00:21, Average Ineference Time: 6.547 ms.\n",
      "Epoch [52/70]: Train Loss: 0.6147, Test Loss: 2.2868, Train Accuracy: 0.814, Test Accuracy: 0.4819, Test F1: 0.4805, lr: 0.008422735529643436, Elapsed Time: 0:00:21, Average Ineference Time: 6.569 ms.\n",
      "Epoch [53/70]: Train Loss: 0.6079, Test Loss: 2.3105, Train Accuracy: 0.815, Test Accuracy: 0.4809, Test F1: 0.4797, lr: 0.008365062567548858, Elapsed Time: 0:00:21, Average Ineference Time: 6.471 ms.\n",
      "Epoch [54/70]: Train Loss: 0.5941, Test Loss: 2.2862, Train Accuracy: 0.819, Test Accuracy: 0.4792, Test F1: 0.4774, lr: 0.008306559326618251, Elapsed Time: 0:00:21, Average Ineference Time: 6.630 ms.\n",
      "Epoch [55/70]: Train Loss: 0.5722, Test Loss: 2.3098, Train Accuracy: 0.826, Test Accuracy: 0.4810, Test F1: 0.4788, lr: 0.00824724024165091, Elapsed Time: 0:00:21, Average Ineference Time: 6.636 ms.\n",
      "Epoch [56/70]: Train Loss: 0.5485, Test Loss: 2.2961, Train Accuracy: 0.835, Test Accuracy: 0.4854, Test F1: 0.4853, lr: 0.008187119948743441, Elapsed Time: 0:00:21, Average Ineference Time: 6.501 ms.\n",
      "Epoch [57/70]: Train Loss: 0.5274, Test Loss: 2.3485, Train Accuracy: 0.839, Test Accuracy: 0.4752, Test F1: 0.4740, lr: 0.008126213281678518, Elapsed Time: 0:00:21, Average Ineference Time: 6.873 ms.\n",
      "Epoch [58/70]: Train Loss: 0.5380, Test Loss: 2.2913, Train Accuracy: 0.837, Test Accuracy: 0.4820, Test F1: 0.4833, lr: 0.008064535268264875, Elapsed Time: 0:00:21, Average Ineference Time: 6.484 ms.\n",
      "Epoch [59/70]: Train Loss: 0.5074, Test Loss: 2.3406, Train Accuracy: 0.847, Test Accuracy: 0.4823, Test F1: 0.4803, lr: 0.008002101126629413, Elapsed Time: 0:00:21, Average Ineference Time: 6.636 ms.\n",
      "Epoch [60/70]: Train Loss: 0.4997, Test Loss: 2.3343, Train Accuracy: 0.849, Test Accuracy: 0.4870, Test F1: 0.4825, lr: 0.00793892626146236, Elapsed Time: 0:00:21, Average Ineference Time: 7.474 ms.\n",
      "Epoch [61/70]: Train Loss: 0.4788, Test Loss: 2.3472, Train Accuracy: 0.855, Test Accuracy: 0.4811, Test F1: 0.4781, lr: 0.007875026260216387, Elapsed Time: 0:00:24, Average Ineference Time: 8.782 ms.\n",
      "Epoch [62/70]: Train Loss: 0.4598, Test Loss: 2.4164, Train Accuracy: 0.862, Test Accuracy: 0.4736, Test F1: 0.4737, lr: 0.0078104168892606475, Elapsed Time: 0:00:21, Average Ineference Time: 6.467 ms.\n",
      "Epoch [63/70]: Train Loss: 0.4676, Test Loss: 2.3525, Train Accuracy: 0.858, Test Accuracy: 0.4858, Test F1: 0.4800, lr: 0.007745114089990652, Elapsed Time: 0:00:21, Average Ineference Time: 6.618 ms.\n",
      "Epoch [64/70]: Train Loss: 0.4522, Test Loss: 2.3577, Train Accuracy: 0.863, Test Accuracy: 0.4833, Test F1: 0.4804, lr: 0.007679133974894976, Elapsed Time: 0:00:21, Average Ineference Time: 6.622 ms.\n",
      "Epoch [65/70]: Train Loss: 0.4320, Test Loss: 2.3902, Train Accuracy: 0.871, Test Accuracy: 0.4772, Test F1: 0.4750, lr: 0.007612492823579738, Elapsed Time: 0:00:21, Average Ineference Time: 6.470 ms.\n",
      "Epoch [66/70]: Train Loss: 0.4180, Test Loss: 2.3684, Train Accuracy: 0.873, Test Accuracy: 0.4814, Test F1: 0.4784, lr: 0.0075452070787518505, Elapsed Time: 0:00:21, Average Ineference Time: 6.531 ms.\n",
      "Epoch [67/70]: Train Loss: 0.4174, Test Loss: 2.3738, Train Accuracy: 0.874, Test Accuracy: 0.4891, Test F1: 0.4860, lr: 0.0074772933421620325, Elapsed Time: 0:00:21, Average Ineference Time: 6.409 ms.\n",
      "Epoch [68/70]: Train Loss: 0.4207, Test Loss: 2.3238, Train Accuracy: 0.875, Test Accuracy: 0.4942, Test F1: 0.4922, lr: 0.0074087683705085705, Elapsed Time: 0:00:21, Average Ineference Time: 6.597 ms.\n",
      "Epoch [69/70]: Train Loss: 0.4079, Test Loss: 2.3778, Train Accuracy: 0.878, Test Accuracy: 0.4849, Test F1: 0.4852, lr: 0.007339649071302862, Elapsed Time: 0:00:21, Average Ineference Time: 6.696 ms.\n",
      "Epoch [70/70]: Train Loss: 0.3919, Test Loss: 2.3837, Train Accuracy: 0.883, Test Accuracy: 0.4874, Test F1: 0.4869, lr: 0.007269952498697729, Elapsed Time: 0:00:21, Average Ineference Time: 6.531 ms.\n"
     ]
    }
   ],
   "source": [
    "training_result = []\n",
    "\n",
    "# Training loop\n",
    "for epoch in range(num_epochs):\n",
    "    tic = datetime.now()\n",
    "\n",
    "    model.train()\n",
    "\n",
    "    train_loss = 0.0\n",
    "    correct = 0\n",
    "    total = 0\n",
    "\n",
    "    for images, labels in train_dataloader:\n",
    "        optimizer.zero_grad()\n",
    "        outputs = model(images)\n",
    "        loss = criterion(outputs, labels)\n",
    "        accelerator.backward(loss)\n",
    "        optimizer.step()\n",
    "        train_loss += loss.item()\n",
    "        _, predicted = outputs.max(1)\n",
    "        total += labels.size(0)\n",
    "        correct += predicted.eq(labels).sum().item()\n",
    "\n",
    "    train_loss /= len(train_dataloader)\n",
    "\n",
    "    model.eval()\n",
    "    test_loss = 0.0\n",
    "    test_preds = []\n",
    "    test_labels = []\n",
    "    test_total_time = 0.\n",
    "\n",
    "    with torch.no_grad():\n",
    "        for images, labels in test_dataloader:\n",
    "            test_tic = time.time()\n",
    "\n",
    "            outputs = model(images)\n",
    "\n",
    "            test_total_time += (time.time() - test_tic) * 1000\n",
    "\n",
    "            loss = criterion(outputs, labels)\n",
    "            test_loss += loss.item()\n",
    "\n",
    "            preds = torch.argmax(outputs, dim=1)\n",
    "            test_preds.extend(accelerator.gather(preds).cpu().numpy())\n",
    "            test_labels.extend(accelerator.gather(labels).cpu().numpy())\n",
    "\n",
    "    test_loss /= len(test_dataloader)\n",
    "    test_acc = accuracy.compute(references=test_labels, predictions=test_preds)[\"accuracy\"]\n",
    "    test_f1 = f1.compute(references=test_labels, predictions=test_preds, average=\"macro\")[\"f1\"]\n",
    "\n",
    "    # Update the learning rate based on validation loss\n",
    "    scheduler.step()\n",
    "\n",
    "    # Time calculation\n",
    "    toc = datetime.now()\n",
    "    elapsed_time = toc - tic\n",
    "    elapsed_time_in_hh_mm_ss = str(elapsed_time).split('.')[0]\n",
    "\n",
    "    print(\n",
    "        f\"Epoch [{epoch + 1}/{num_epochs}]: Train Loss: {train_loss:.4f}, Test Loss: {test_loss:.4f}, \"\n",
    "        f'Train Accuracy: {correct / total:.3f}, '\n",
    "        f\"Test Accuracy: {test_acc:.4f}, Test F1: {test_f1:.4f}, \"\n",
    "        f'lr: {optimizer.param_groups[0][\"lr\"]}, '\n",
    "        f'Elapsed Time: {elapsed_time_in_hh_mm_ss}, '\n",
    "        f'Average Ineference Time: {test_total_time / len(test_dataloader):.3f} ms.\\n'\n",
    "    )\n",
    "\n",
    "    training_result.append({\n",
    "        'train_loss': train_loss,\n",
    "        'test_loss': test_loss,\n",
    "        'train_acc': correct / total,\n",
    "        'test_acc': test_acc,\n",
    "        'lr': optimizer.param_groups[0][\"lr\"],\n",
    "        'average_ineference_time': test_total_time / len(test_dataloader),\n",
    "    })"
   ],
   "metadata": {
    "collapsed": false,
    "ExecuteTime": {
     "end_time": "2024-03-31T00:07:35.124589Z",
     "start_time": "2024-03-30T23:42:25.489920Z"
    }
   },
   "id": "6a29d66f4b2a035c",
   "execution_count": 10
  },
  {
   "cell_type": "code",
   "outputs": [
    {
     "data": {
      "text/plain": "    train_loss  test_loss  train_acc  test_acc        lr  \\\n0     4.459843   3.841901    0.06226    0.1160  0.009999   \n1     3.796108   3.609528    0.12502    0.1652  0.009998   \n2     3.522557   3.400485    0.16496    0.2100  0.009994   \n3     3.314821   3.226610    0.19888    0.2307  0.009990   \n4     3.175116   3.163781    0.22164    0.2504  0.009985   \n..         ...        ...        ...       ...       ...   \n65    0.417963   2.368408    0.87290    0.4814  0.007545   \n66    0.417410   2.373769    0.87434    0.4891  0.007477   \n67    0.420677   2.323763    0.87468    0.4942  0.007409   \n68    0.407904   2.377791    0.87768    0.4849  0.007340   \n69    0.391891   2.383736    0.88316    0.4874  0.007270   \n\n    average_ineference_time  \n0                  7.270007  \n1                  6.605876  \n2                  6.673725  \n3                  6.799284  \n4                  6.589603  \n..                      ...  \n65                 6.530822  \n66                 6.409265  \n67                 6.596900  \n68                 6.696179  \n69                 6.530566  \n\n[70 rows x 6 columns]",
      "text/html": "<div>\n<style scoped>\n    .dataframe tbody tr th:only-of-type {\n        vertical-align: middle;\n    }\n\n    .dataframe tbody tr th {\n        vertical-align: top;\n    }\n\n    .dataframe thead th {\n        text-align: right;\n    }\n</style>\n<table border=\"1\" class=\"dataframe\">\n  <thead>\n    <tr style=\"text-align: right;\">\n      <th></th>\n      <th>train_loss</th>\n      <th>test_loss</th>\n      <th>train_acc</th>\n      <th>test_acc</th>\n      <th>lr</th>\n      <th>average_ineference_time</th>\n    </tr>\n  </thead>\n  <tbody>\n    <tr>\n      <th>0</th>\n      <td>4.459843</td>\n      <td>3.841901</td>\n      <td>0.06226</td>\n      <td>0.1160</td>\n      <td>0.009999</td>\n      <td>7.270007</td>\n    </tr>\n    <tr>\n      <th>1</th>\n      <td>3.796108</td>\n      <td>3.609528</td>\n      <td>0.12502</td>\n      <td>0.1652</td>\n      <td>0.009998</td>\n      <td>6.605876</td>\n    </tr>\n    <tr>\n      <th>2</th>\n      <td>3.522557</td>\n      <td>3.400485</td>\n      <td>0.16496</td>\n      <td>0.2100</td>\n      <td>0.009994</td>\n      <td>6.673725</td>\n    </tr>\n    <tr>\n      <th>3</th>\n      <td>3.314821</td>\n      <td>3.226610</td>\n      <td>0.19888</td>\n      <td>0.2307</td>\n      <td>0.009990</td>\n      <td>6.799284</td>\n    </tr>\n    <tr>\n      <th>4</th>\n      <td>3.175116</td>\n      <td>3.163781</td>\n      <td>0.22164</td>\n      <td>0.2504</td>\n      <td>0.009985</td>\n      <td>6.589603</td>\n    </tr>\n    <tr>\n      <th>...</th>\n      <td>...</td>\n      <td>...</td>\n      <td>...</td>\n      <td>...</td>\n      <td>...</td>\n      <td>...</td>\n    </tr>\n    <tr>\n      <th>65</th>\n      <td>0.417963</td>\n      <td>2.368408</td>\n      <td>0.87290</td>\n      <td>0.4814</td>\n      <td>0.007545</td>\n      <td>6.530822</td>\n    </tr>\n    <tr>\n      <th>66</th>\n      <td>0.417410</td>\n      <td>2.373769</td>\n      <td>0.87434</td>\n      <td>0.4891</td>\n      <td>0.007477</td>\n      <td>6.409265</td>\n    </tr>\n    <tr>\n      <th>67</th>\n      <td>0.420677</td>\n      <td>2.323763</td>\n      <td>0.87468</td>\n      <td>0.4942</td>\n      <td>0.007409</td>\n      <td>6.596900</td>\n    </tr>\n    <tr>\n      <th>68</th>\n      <td>0.407904</td>\n      <td>2.377791</td>\n      <td>0.87768</td>\n      <td>0.4849</td>\n      <td>0.007340</td>\n      <td>6.696179</td>\n    </tr>\n    <tr>\n      <th>69</th>\n      <td>0.391891</td>\n      <td>2.383736</td>\n      <td>0.88316</td>\n      <td>0.4874</td>\n      <td>0.007270</td>\n      <td>6.530566</td>\n    </tr>\n  </tbody>\n</table>\n<p>70 rows × 6 columns</p>\n</div>"
     },
     "execution_count": 11,
     "metadata": {},
     "output_type": "execute_result"
    }
   ],
   "source": [
    "# index is epoch number.\n",
    "tr = pd.DataFrame(training_result,\n",
    "                  columns=['train_loss', 'test_loss', 'train_acc', 'test_acc', 'lr', 'average_ineference_time'])\n",
    "tr.to_csv('resnet_cifar100_result.csv')\n",
    "tr"
   ],
   "metadata": {
    "collapsed": false,
    "ExecuteTime": {
     "end_time": "2024-03-31T00:07:35.140592Z",
     "start_time": "2024-03-31T00:07:35.125588Z"
    }
   },
   "id": "caa951062200d5a6",
   "execution_count": 11
  },
  {
   "cell_type": "code",
   "outputs": [
    {
     "name": "stdout",
     "output_type": "stream",
     "text": [
      "Pruned model size: 90.76 MB\n"
     ]
    }
   ],
   "source": [
    "torch.save(model.state_dict(), 'resnet_cifar100.pth')\n",
    "# Get the size of the saved model file\n",
    "model_size = os.path.getsize('resnet_cifar100.pth') / (1024 * 1024)  # Size in MB\n",
    "print(f\"Pruned model size: {model_size:.2f} MB\")"
   ],
   "metadata": {
    "collapsed": false,
    "ExecuteTime": {
     "end_time": "2024-03-31T00:07:35.251712Z",
     "start_time": "2024-03-31T00:07:35.141592Z"
    }
   },
   "id": "47648187724a4e72",
   "execution_count": 12
  },
  {
   "cell_type": "code",
   "outputs": [],
   "source": [],
   "metadata": {
    "collapsed": false,
    "ExecuteTime": {
     "end_time": "2024-03-31T00:07:35.267716Z",
     "start_time": "2024-03-31T00:07:35.252712Z"
    }
   },
   "id": "7099180f1ffa376",
   "execution_count": 12
  }
 ],
 "metadata": {
  "kernelspec": {
   "display_name": "Python 3",
   "language": "python",
   "name": "python3"
  },
  "language_info": {
   "codemirror_mode": {
    "name": "ipython",
    "version": 2
   },
   "file_extension": ".py",
   "mimetype": "text/x-python",
   "name": "python",
   "nbconvert_exporter": "python",
   "pygments_lexer": "ipython2",
   "version": "2.7.6"
  }
 },
 "nbformat": 4,
 "nbformat_minor": 5
}
