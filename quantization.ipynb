{
 "cells": [
  {
   "cell_type": "markdown",
   "source": [
    "# Quantize the pre-trained model."
   ],
   "metadata": {
    "collapsed": false
   },
   "id": "9d23eeffd64a04ea"
  },
  {
   "cell_type": "code",
   "outputs": [],
   "source": [
    "import os\n",
    "import time\n",
    "\n",
    "import torch\n",
    "from torch import nn\n",
    "from torch.utils.data import DataLoader\n",
    "from torchvision import datasets\n",
    "from torchvision import models\n",
    "from torchvision.transforms import transforms"
   ],
   "metadata": {
    "collapsed": false,
    "ExecuteTime": {
     "end_time": "2024-03-31T00:24:54.446664Z",
     "start_time": "2024-03-31T00:24:52.602126Z"
    }
   },
   "id": "32ab82eaf911b3a0",
   "execution_count": 1
  },
  {
   "cell_type": "code",
   "outputs": [],
   "source": [
    "# load pretrained model.\n",
    "model = models.resnet50(weights=None)\n",
    "model.fc = nn.Linear(model.fc.in_features, 100)  # resnet"
   ],
   "metadata": {
    "collapsed": false,
    "ExecuteTime": {
     "end_time": "2024-03-31T00:24:54.653722Z",
     "start_time": "2024-03-31T00:24:54.447664Z"
    }
   },
   "id": "440cada178248729",
   "execution_count": 2
  },
  {
   "cell_type": "code",
   "outputs": [
    {
     "name": "stderr",
     "output_type": "stream",
     "text": [
      "C:\\Users\\aksid\\PycharmProjects\\MNISTClassifier\\venv\\lib\\site-packages\\torch\\ao\\quantization\\observer.py:220: UserWarning: Please use quant_min and quant_max to specify the range for observers.                     reduce_range will be deprecated in a future release of PyTorch.\n",
      "  warnings.warn(\n"
     ]
    }
   ],
   "source": [
    "model.load_state_dict(torch.load('resnet_cifar100.pth'))\n",
    "\n",
    "# Fuse the model layers\n",
    "model.eval()\n",
    "\n",
    "# Specify the quantization configuration\n",
    "model.qconfig = torch.quantization.get_default_qconfig('fbgemm')  # default_dynamic_qconfig # get_default_qconfig\n",
    "\n",
    "# Prepare the model for quantization\n",
    "model = torch.quantization.prepare(model, inplace=True)"
   ],
   "metadata": {
    "collapsed": false,
    "ExecuteTime": {
     "end_time": "2024-03-31T00:24:54.857776Z",
     "start_time": "2024-03-31T00:24:54.654722Z"
    }
   },
   "id": "9105f44ae8fa9057",
   "execution_count": 3
  },
  {
   "cell_type": "code",
   "outputs": [],
   "source": [
    "# my_transforms = transforms.Compose([\n",
    "#     transforms.ToTensor(),\n",
    "#     transforms.Normalize((0.5071, 0.4867, 0.4408), (0.2675, 0.2565, 0.2761)),\n",
    "# ])"
   ],
   "metadata": {
    "collapsed": false,
    "ExecuteTime": {
     "end_time": "2024-03-31T00:24:54.872780Z",
     "start_time": "2024-03-31T00:24:54.858776Z"
    }
   },
   "id": "42e5a84ca23a9ac9",
   "execution_count": 4
  },
  {
   "cell_type": "code",
   "outputs": [
    {
     "name": "stdout",
     "output_type": "stream",
     "text": [
      "Files already downloaded and verified\n"
     ]
    }
   ],
   "source": [
    "# Perform calibration on a representative dataset\n",
    "calibration_dataset = datasets.CIFAR100(root='./data', train=False, download=True, transform=transforms.ToTensor())\n",
    "calibration_dataloader = DataLoader(calibration_dataset, batch_size=512)"
   ],
   "metadata": {
    "collapsed": false,
    "ExecuteTime": {
     "end_time": "2024-03-31T00:24:55.364416Z",
     "start_time": "2024-03-31T00:24:54.873780Z"
    }
   },
   "id": "2be66df55bc562d8",
   "execution_count": 5
  },
  {
   "cell_type": "code",
   "outputs": [],
   "source": [
    "# quant = torch.ao.quantization.QuantStub()"
   ],
   "metadata": {
    "collapsed": false,
    "ExecuteTime": {
     "end_time": "2024-03-31T00:24:55.380420Z",
     "start_time": "2024-03-31T00:24:55.365417Z"
    }
   },
   "id": "1f86252f623357f4",
   "execution_count": 6
  },
  {
   "cell_type": "code",
   "outputs": [
    {
     "name": "stdout",
     "output_type": "stream",
     "text": [
      "20  / 20 done.\r"
     ]
    }
   ],
   "source": [
    "# Run calibration\n",
    "i = 0\n",
    "with torch.no_grad():\n",
    "    for inputs, _ in calibration_dataloader:\n",
    "        model(inputs)\n",
    "        print(f'{i + 1}  / {len(calibration_dataloader)} done.', end='\\r')\n",
    "        i += 1"
   ],
   "metadata": {
    "collapsed": false,
    "ExecuteTime": {
     "end_time": "2024-03-31T00:25:19.784290Z",
     "start_time": "2024-03-31T00:24:55.381420Z"
    }
   },
   "id": "6ebbddb0161b6562",
   "execution_count": 7
  },
  {
   "cell_type": "code",
   "outputs": [
    {
     "name": "stdout",
     "output_type": "stream",
     "text": [
      "Files already downloaded and verified\n",
      "Files already downloaded and verified\n"
     ]
    }
   ],
   "source": [
    "# Load CIFAR-100 dataset\n",
    "train_dataset = datasets.CIFAR100(root='./data', train=True, download=True, transform=transforms.ToTensor())\n",
    "test_dataset = datasets.CIFAR100(root='./data', train=False, download=True, transform=transforms.ToTensor())\n",
    "\n",
    "train_dataloader = DataLoader(train_dataset, batch_size=512, shuffle=True)\n",
    "test_dataloader = DataLoader(test_dataset, batch_size=512, shuffle=False)"
   ],
   "metadata": {
    "collapsed": false,
    "ExecuteTime": {
     "end_time": "2024-03-31T00:25:20.839165Z",
     "start_time": "2024-03-31T00:25:19.785291Z"
    }
   },
   "id": "4f73415ebe7ccc25",
   "execution_count": 8
  },
  {
   "cell_type": "code",
   "outputs": [],
   "source": [
    "def evaluate(dataloader, type):\n",
    "    # Evaluate the quantized model\n",
    "    model.eval()\n",
    "\n",
    "    total_time = 0.\n",
    "    num_batches = 0\n",
    "\n",
    "    with torch.no_grad():\n",
    "        correct = 0\n",
    "        total = 0\n",
    "\n",
    "        for idx, batch in enumerate(dataloader):\n",
    "            inputs, labels = batch\n",
    "\n",
    "            tic = time.time()\n",
    "            outputs = model(inputs)\n",
    "            total_time += (time.time() - tic) * 1000\n",
    "\n",
    "            _, predicted = torch.max(outputs.data, 1)\n",
    "            total += labels.size(0)\n",
    "            correct += (predicted == labels).sum().item()\n",
    "\n",
    "            num_batches += 1\n",
    "            print(f'[{type}] {idx + 1} / {len(dataloader)} done. ({total_time / num_batches / 512:.2f} ms)', end='\\r')\n",
    "\n",
    "        accuracy = 100 * correct / total\n",
    "        print(\n",
    "            f'Quantized model in {type} accuracy: {accuracy:.2f}%, '\n",
    "            f'Average Inference Time: {total_time / num_batches:.2f} ms.'\n",
    "        )"
   ],
   "metadata": {
    "collapsed": false,
    "ExecuteTime": {
     "end_time": "2024-03-31T00:25:20.855169Z",
     "start_time": "2024-03-31T00:25:20.840165Z"
    }
   },
   "id": "6a29d66f4b2a035c",
   "execution_count": 9
  },
  {
   "cell_type": "code",
   "outputs": [
    {
     "name": "stdout",
     "output_type": "stream",
     "text": [
      "Quantized model in train dataset accuracy: 11.43%, Average Inference Time: 1181.38 ms.\n",
      "Quantized model in test dataset accuracy: 10.93%, Average Inference Time: 1155.17 ms.\n"
     ]
    }
   ],
   "source": [
    "evaluate(train_dataloader, 'train dataset')\n",
    "evaluate(test_dataloader, 'test dataset')"
   ],
   "metadata": {
    "collapsed": false,
    "ExecuteTime": {
     "end_time": "2024-03-31T00:27:44.898876Z",
     "start_time": "2024-03-31T00:25:20.857169Z"
    }
   },
   "id": "2d6ab217f187e2ed",
   "execution_count": 10
  },
  {
   "cell_type": "code",
   "outputs": [
    {
     "name": "stdout",
     "output_type": "stream",
     "text": [
      "Pruned model size: 23.57 MB\n"
     ]
    }
   ],
   "source": [
    "# Convert the model to a quantized model\n",
    "torch.quantization.convert(model.eval(), inplace=True)\n",
    "\n",
    "# Save the quantized model\n",
    "torch.save(model.state_dict(), 'quantized_resnet_cifar100.pth')\n",
    "\n",
    "# Get the size of the saved model file\n",
    "model_size = os.path.getsize('quantized_resnet_cifar100.pth') / (1024 * 1024)  # Size in MB\n",
    "print(f\"Pruned model size: {model_size:.2f} MB\")"
   ],
   "metadata": {
    "collapsed": false,
    "ExecuteTime": {
     "end_time": "2024-03-31T00:27:46.950396Z",
     "start_time": "2024-03-31T00:27:44.899876Z"
    }
   },
   "id": "584026575843ff13",
   "execution_count": 11
  },
  {
   "cell_type": "code",
   "outputs": [],
   "source": [],
   "metadata": {
    "collapsed": false,
    "ExecuteTime": {
     "end_time": "2024-03-31T00:27:46.966400Z",
     "start_time": "2024-03-31T00:27:46.951396Z"
    }
   },
   "id": "7099180f1ffa376",
   "execution_count": 11
  }
 ],
 "metadata": {
  "kernelspec": {
   "display_name": "Python 3",
   "language": "python",
   "name": "python3"
  },
  "language_info": {
   "codemirror_mode": {
    "name": "ipython",
    "version": 2
   },
   "file_extension": ".py",
   "mimetype": "text/x-python",
   "name": "python",
   "nbconvert_exporter": "python",
   "pygments_lexer": "ipython2",
   "version": "2.7.6"
  }
 },
 "nbformat": 4,
 "nbformat_minor": 5
}
