{
 "cells": [
  {
   "cell_type": "markdown",
   "source": [
    "# Quantize the pre-trained model."
   ],
   "metadata": {
    "collapsed": false
   },
   "id": "9d23eeffd64a04ea"
  },
  {
   "cell_type": "code",
   "outputs": [],
   "source": [
    "import os\n",
    "\n",
    "import torch\n",
    "from torch import nn\n",
    "from torch.utils.data import DataLoader\n",
    "from torchvision import datasets\n",
    "from torchvision import models  # quantization\n",
    "from torchvision.transforms import transforms"
   ],
   "metadata": {
    "collapsed": false,
    "ExecuteTime": {
     "end_time": "2024-03-30T12:47:29.864632Z",
     "start_time": "2024-03-30T12:47:28.004860Z"
    }
   },
   "id": "32ab82eaf911b3a0",
   "execution_count": 1
  },
  {
   "cell_type": "code",
   "outputs": [],
   "source": [
    "# load pretrained model.\n",
    "model = models.resnet50()\n",
    "model.fc = nn.Linear(model.fc.in_features, 100)  # resnet"
   ],
   "metadata": {
    "collapsed": false,
    "ExecuteTime": {
     "end_time": "2024-03-30T12:47:30.103694Z",
     "start_time": "2024-03-30T12:47:29.865632Z"
    }
   },
   "id": "440cada178248729",
   "execution_count": 2
  },
  {
   "cell_type": "code",
   "outputs": [
    {
     "name": "stderr",
     "output_type": "stream",
     "text": [
      "C:\\Users\\aksid\\PycharmProjects\\MNISTClassifier\\venv\\lib\\site-packages\\torch\\ao\\quantization\\observer.py:220: UserWarning: Please use quant_min and quant_max to specify the range for observers.                     reduce_range will be deprecated in a future release of PyTorch.\n",
      "  warnings.warn(\n"
     ]
    },
    {
     "data": {
      "text/plain": "ResNet(\n  (conv1): Conv2d(\n    3, 64, kernel_size=(7, 7), stride=(2, 2), padding=(3, 3), bias=False\n    (activation_post_process): HistogramObserver(min_val=inf, max_val=-inf)\n  )\n  (bn1): BatchNorm2d(\n    64, eps=1e-05, momentum=0.1, affine=True, track_running_stats=True\n    (activation_post_process): HistogramObserver(min_val=inf, max_val=-inf)\n  )\n  (relu): ReLU(inplace=True)\n  (maxpool): MaxPool2d(kernel_size=3, stride=2, padding=1, dilation=1, ceil_mode=False)\n  (layer1): Sequential(\n    (0): Bottleneck(\n      (conv1): Conv2d(\n        64, 64, kernel_size=(1, 1), stride=(1, 1), bias=False\n        (activation_post_process): HistogramObserver(min_val=inf, max_val=-inf)\n      )\n      (bn1): BatchNorm2d(\n        64, eps=1e-05, momentum=0.1, affine=True, track_running_stats=True\n        (activation_post_process): HistogramObserver(min_val=inf, max_val=-inf)\n      )\n      (conv2): Conv2d(\n        64, 64, kernel_size=(3, 3), stride=(1, 1), padding=(1, 1), bias=False\n        (activation_post_process): HistogramObserver(min_val=inf, max_val=-inf)\n      )\n      (bn2): BatchNorm2d(\n        64, eps=1e-05, momentum=0.1, affine=True, track_running_stats=True\n        (activation_post_process): HistogramObserver(min_val=inf, max_val=-inf)\n      )\n      (conv3): Conv2d(\n        64, 256, kernel_size=(1, 1), stride=(1, 1), bias=False\n        (activation_post_process): HistogramObserver(min_val=inf, max_val=-inf)\n      )\n      (bn3): BatchNorm2d(\n        256, eps=1e-05, momentum=0.1, affine=True, track_running_stats=True\n        (activation_post_process): HistogramObserver(min_val=inf, max_val=-inf)\n      )\n      (relu): ReLU(inplace=True)\n      (downsample): Sequential(\n        (0): Conv2d(\n          64, 256, kernel_size=(1, 1), stride=(1, 1), bias=False\n          (activation_post_process): HistogramObserver(min_val=inf, max_val=-inf)\n        )\n        (1): BatchNorm2d(\n          256, eps=1e-05, momentum=0.1, affine=True, track_running_stats=True\n          (activation_post_process): HistogramObserver(min_val=inf, max_val=-inf)\n        )\n      )\n    )\n    (1): Bottleneck(\n      (conv1): Conv2d(\n        256, 64, kernel_size=(1, 1), stride=(1, 1), bias=False\n        (activation_post_process): HistogramObserver(min_val=inf, max_val=-inf)\n      )\n      (bn1): BatchNorm2d(\n        64, eps=1e-05, momentum=0.1, affine=True, track_running_stats=True\n        (activation_post_process): HistogramObserver(min_val=inf, max_val=-inf)\n      )\n      (conv2): Conv2d(\n        64, 64, kernel_size=(3, 3), stride=(1, 1), padding=(1, 1), bias=False\n        (activation_post_process): HistogramObserver(min_val=inf, max_val=-inf)\n      )\n      (bn2): BatchNorm2d(\n        64, eps=1e-05, momentum=0.1, affine=True, track_running_stats=True\n        (activation_post_process): HistogramObserver(min_val=inf, max_val=-inf)\n      )\n      (conv3): Conv2d(\n        64, 256, kernel_size=(1, 1), stride=(1, 1), bias=False\n        (activation_post_process): HistogramObserver(min_val=inf, max_val=-inf)\n      )\n      (bn3): BatchNorm2d(\n        256, eps=1e-05, momentum=0.1, affine=True, track_running_stats=True\n        (activation_post_process): HistogramObserver(min_val=inf, max_val=-inf)\n      )\n      (relu): ReLU(inplace=True)\n    )\n    (2): Bottleneck(\n      (conv1): Conv2d(\n        256, 64, kernel_size=(1, 1), stride=(1, 1), bias=False\n        (activation_post_process): HistogramObserver(min_val=inf, max_val=-inf)\n      )\n      (bn1): BatchNorm2d(\n        64, eps=1e-05, momentum=0.1, affine=True, track_running_stats=True\n        (activation_post_process): HistogramObserver(min_val=inf, max_val=-inf)\n      )\n      (conv2): Conv2d(\n        64, 64, kernel_size=(3, 3), stride=(1, 1), padding=(1, 1), bias=False\n        (activation_post_process): HistogramObserver(min_val=inf, max_val=-inf)\n      )\n      (bn2): BatchNorm2d(\n        64, eps=1e-05, momentum=0.1, affine=True, track_running_stats=True\n        (activation_post_process): HistogramObserver(min_val=inf, max_val=-inf)\n      )\n      (conv3): Conv2d(\n        64, 256, kernel_size=(1, 1), stride=(1, 1), bias=False\n        (activation_post_process): HistogramObserver(min_val=inf, max_val=-inf)\n      )\n      (bn3): BatchNorm2d(\n        256, eps=1e-05, momentum=0.1, affine=True, track_running_stats=True\n        (activation_post_process): HistogramObserver(min_val=inf, max_val=-inf)\n      )\n      (relu): ReLU(inplace=True)\n    )\n  )\n  (layer2): Sequential(\n    (0): Bottleneck(\n      (conv1): Conv2d(\n        256, 128, kernel_size=(1, 1), stride=(1, 1), bias=False\n        (activation_post_process): HistogramObserver(min_val=inf, max_val=-inf)\n      )\n      (bn1): BatchNorm2d(\n        128, eps=1e-05, momentum=0.1, affine=True, track_running_stats=True\n        (activation_post_process): HistogramObserver(min_val=inf, max_val=-inf)\n      )\n      (conv2): Conv2d(\n        128, 128, kernel_size=(3, 3), stride=(2, 2), padding=(1, 1), bias=False\n        (activation_post_process): HistogramObserver(min_val=inf, max_val=-inf)\n      )\n      (bn2): BatchNorm2d(\n        128, eps=1e-05, momentum=0.1, affine=True, track_running_stats=True\n        (activation_post_process): HistogramObserver(min_val=inf, max_val=-inf)\n      )\n      (conv3): Conv2d(\n        128, 512, kernel_size=(1, 1), stride=(1, 1), bias=False\n        (activation_post_process): HistogramObserver(min_val=inf, max_val=-inf)\n      )\n      (bn3): BatchNorm2d(\n        512, eps=1e-05, momentum=0.1, affine=True, track_running_stats=True\n        (activation_post_process): HistogramObserver(min_val=inf, max_val=-inf)\n      )\n      (relu): ReLU(inplace=True)\n      (downsample): Sequential(\n        (0): Conv2d(\n          256, 512, kernel_size=(1, 1), stride=(2, 2), bias=False\n          (activation_post_process): HistogramObserver(min_val=inf, max_val=-inf)\n        )\n        (1): BatchNorm2d(\n          512, eps=1e-05, momentum=0.1, affine=True, track_running_stats=True\n          (activation_post_process): HistogramObserver(min_val=inf, max_val=-inf)\n        )\n      )\n    )\n    (1): Bottleneck(\n      (conv1): Conv2d(\n        512, 128, kernel_size=(1, 1), stride=(1, 1), bias=False\n        (activation_post_process): HistogramObserver(min_val=inf, max_val=-inf)\n      )\n      (bn1): BatchNorm2d(\n        128, eps=1e-05, momentum=0.1, affine=True, track_running_stats=True\n        (activation_post_process): HistogramObserver(min_val=inf, max_val=-inf)\n      )\n      (conv2): Conv2d(\n        128, 128, kernel_size=(3, 3), stride=(1, 1), padding=(1, 1), bias=False\n        (activation_post_process): HistogramObserver(min_val=inf, max_val=-inf)\n      )\n      (bn2): BatchNorm2d(\n        128, eps=1e-05, momentum=0.1, affine=True, track_running_stats=True\n        (activation_post_process): HistogramObserver(min_val=inf, max_val=-inf)\n      )\n      (conv3): Conv2d(\n        128, 512, kernel_size=(1, 1), stride=(1, 1), bias=False\n        (activation_post_process): HistogramObserver(min_val=inf, max_val=-inf)\n      )\n      (bn3): BatchNorm2d(\n        512, eps=1e-05, momentum=0.1, affine=True, track_running_stats=True\n        (activation_post_process): HistogramObserver(min_val=inf, max_val=-inf)\n      )\n      (relu): ReLU(inplace=True)\n    )\n    (2): Bottleneck(\n      (conv1): Conv2d(\n        512, 128, kernel_size=(1, 1), stride=(1, 1), bias=False\n        (activation_post_process): HistogramObserver(min_val=inf, max_val=-inf)\n      )\n      (bn1): BatchNorm2d(\n        128, eps=1e-05, momentum=0.1, affine=True, track_running_stats=True\n        (activation_post_process): HistogramObserver(min_val=inf, max_val=-inf)\n      )\n      (conv2): Conv2d(\n        128, 128, kernel_size=(3, 3), stride=(1, 1), padding=(1, 1), bias=False\n        (activation_post_process): HistogramObserver(min_val=inf, max_val=-inf)\n      )\n      (bn2): BatchNorm2d(\n        128, eps=1e-05, momentum=0.1, affine=True, track_running_stats=True\n        (activation_post_process): HistogramObserver(min_val=inf, max_val=-inf)\n      )\n      (conv3): Conv2d(\n        128, 512, kernel_size=(1, 1), stride=(1, 1), bias=False\n        (activation_post_process): HistogramObserver(min_val=inf, max_val=-inf)\n      )\n      (bn3): BatchNorm2d(\n        512, eps=1e-05, momentum=0.1, affine=True, track_running_stats=True\n        (activation_post_process): HistogramObserver(min_val=inf, max_val=-inf)\n      )\n      (relu): ReLU(inplace=True)\n    )\n    (3): Bottleneck(\n      (conv1): Conv2d(\n        512, 128, kernel_size=(1, 1), stride=(1, 1), bias=False\n        (activation_post_process): HistogramObserver(min_val=inf, max_val=-inf)\n      )\n      (bn1): BatchNorm2d(\n        128, eps=1e-05, momentum=0.1, affine=True, track_running_stats=True\n        (activation_post_process): HistogramObserver(min_val=inf, max_val=-inf)\n      )\n      (conv2): Conv2d(\n        128, 128, kernel_size=(3, 3), stride=(1, 1), padding=(1, 1), bias=False\n        (activation_post_process): HistogramObserver(min_val=inf, max_val=-inf)\n      )\n      (bn2): BatchNorm2d(\n        128, eps=1e-05, momentum=0.1, affine=True, track_running_stats=True\n        (activation_post_process): HistogramObserver(min_val=inf, max_val=-inf)\n      )\n      (conv3): Conv2d(\n        128, 512, kernel_size=(1, 1), stride=(1, 1), bias=False\n        (activation_post_process): HistogramObserver(min_val=inf, max_val=-inf)\n      )\n      (bn3): BatchNorm2d(\n        512, eps=1e-05, momentum=0.1, affine=True, track_running_stats=True\n        (activation_post_process): HistogramObserver(min_val=inf, max_val=-inf)\n      )\n      (relu): ReLU(inplace=True)\n    )\n  )\n  (layer3): Sequential(\n    (0): Bottleneck(\n      (conv1): Conv2d(\n        512, 256, kernel_size=(1, 1), stride=(1, 1), bias=False\n        (activation_post_process): HistogramObserver(min_val=inf, max_val=-inf)\n      )\n      (bn1): BatchNorm2d(\n        256, eps=1e-05, momentum=0.1, affine=True, track_running_stats=True\n        (activation_post_process): HistogramObserver(min_val=inf, max_val=-inf)\n      )\n      (conv2): Conv2d(\n        256, 256, kernel_size=(3, 3), stride=(2, 2), padding=(1, 1), bias=False\n        (activation_post_process): HistogramObserver(min_val=inf, max_val=-inf)\n      )\n      (bn2): BatchNorm2d(\n        256, eps=1e-05, momentum=0.1, affine=True, track_running_stats=True\n        (activation_post_process): HistogramObserver(min_val=inf, max_val=-inf)\n      )\n      (conv3): Conv2d(\n        256, 1024, kernel_size=(1, 1), stride=(1, 1), bias=False\n        (activation_post_process): HistogramObserver(min_val=inf, max_val=-inf)\n      )\n      (bn3): BatchNorm2d(\n        1024, eps=1e-05, momentum=0.1, affine=True, track_running_stats=True\n        (activation_post_process): HistogramObserver(min_val=inf, max_val=-inf)\n      )\n      (relu): ReLU(inplace=True)\n      (downsample): Sequential(\n        (0): Conv2d(\n          512, 1024, kernel_size=(1, 1), stride=(2, 2), bias=False\n          (activation_post_process): HistogramObserver(min_val=inf, max_val=-inf)\n        )\n        (1): BatchNorm2d(\n          1024, eps=1e-05, momentum=0.1, affine=True, track_running_stats=True\n          (activation_post_process): HistogramObserver(min_val=inf, max_val=-inf)\n        )\n      )\n    )\n    (1): Bottleneck(\n      (conv1): Conv2d(\n        1024, 256, kernel_size=(1, 1), stride=(1, 1), bias=False\n        (activation_post_process): HistogramObserver(min_val=inf, max_val=-inf)\n      )\n      (bn1): BatchNorm2d(\n        256, eps=1e-05, momentum=0.1, affine=True, track_running_stats=True\n        (activation_post_process): HistogramObserver(min_val=inf, max_val=-inf)\n      )\n      (conv2): Conv2d(\n        256, 256, kernel_size=(3, 3), stride=(1, 1), padding=(1, 1), bias=False\n        (activation_post_process): HistogramObserver(min_val=inf, max_val=-inf)\n      )\n      (bn2): BatchNorm2d(\n        256, eps=1e-05, momentum=0.1, affine=True, track_running_stats=True\n        (activation_post_process): HistogramObserver(min_val=inf, max_val=-inf)\n      )\n      (conv3): Conv2d(\n        256, 1024, kernel_size=(1, 1), stride=(1, 1), bias=False\n        (activation_post_process): HistogramObserver(min_val=inf, max_val=-inf)\n      )\n      (bn3): BatchNorm2d(\n        1024, eps=1e-05, momentum=0.1, affine=True, track_running_stats=True\n        (activation_post_process): HistogramObserver(min_val=inf, max_val=-inf)\n      )\n      (relu): ReLU(inplace=True)\n    )\n    (2): Bottleneck(\n      (conv1): Conv2d(\n        1024, 256, kernel_size=(1, 1), stride=(1, 1), bias=False\n        (activation_post_process): HistogramObserver(min_val=inf, max_val=-inf)\n      )\n      (bn1): BatchNorm2d(\n        256, eps=1e-05, momentum=0.1, affine=True, track_running_stats=True\n        (activation_post_process): HistogramObserver(min_val=inf, max_val=-inf)\n      )\n      (conv2): Conv2d(\n        256, 256, kernel_size=(3, 3), stride=(1, 1), padding=(1, 1), bias=False\n        (activation_post_process): HistogramObserver(min_val=inf, max_val=-inf)\n      )\n      (bn2): BatchNorm2d(\n        256, eps=1e-05, momentum=0.1, affine=True, track_running_stats=True\n        (activation_post_process): HistogramObserver(min_val=inf, max_val=-inf)\n      )\n      (conv3): Conv2d(\n        256, 1024, kernel_size=(1, 1), stride=(1, 1), bias=False\n        (activation_post_process): HistogramObserver(min_val=inf, max_val=-inf)\n      )\n      (bn3): BatchNorm2d(\n        1024, eps=1e-05, momentum=0.1, affine=True, track_running_stats=True\n        (activation_post_process): HistogramObserver(min_val=inf, max_val=-inf)\n      )\n      (relu): ReLU(inplace=True)\n    )\n    (3): Bottleneck(\n      (conv1): Conv2d(\n        1024, 256, kernel_size=(1, 1), stride=(1, 1), bias=False\n        (activation_post_process): HistogramObserver(min_val=inf, max_val=-inf)\n      )\n      (bn1): BatchNorm2d(\n        256, eps=1e-05, momentum=0.1, affine=True, track_running_stats=True\n        (activation_post_process): HistogramObserver(min_val=inf, max_val=-inf)\n      )\n      (conv2): Conv2d(\n        256, 256, kernel_size=(3, 3), stride=(1, 1), padding=(1, 1), bias=False\n        (activation_post_process): HistogramObserver(min_val=inf, max_val=-inf)\n      )\n      (bn2): BatchNorm2d(\n        256, eps=1e-05, momentum=0.1, affine=True, track_running_stats=True\n        (activation_post_process): HistogramObserver(min_val=inf, max_val=-inf)\n      )\n      (conv3): Conv2d(\n        256, 1024, kernel_size=(1, 1), stride=(1, 1), bias=False\n        (activation_post_process): HistogramObserver(min_val=inf, max_val=-inf)\n      )\n      (bn3): BatchNorm2d(\n        1024, eps=1e-05, momentum=0.1, affine=True, track_running_stats=True\n        (activation_post_process): HistogramObserver(min_val=inf, max_val=-inf)\n      )\n      (relu): ReLU(inplace=True)\n    )\n    (4): Bottleneck(\n      (conv1): Conv2d(\n        1024, 256, kernel_size=(1, 1), stride=(1, 1), bias=False\n        (activation_post_process): HistogramObserver(min_val=inf, max_val=-inf)\n      )\n      (bn1): BatchNorm2d(\n        256, eps=1e-05, momentum=0.1, affine=True, track_running_stats=True\n        (activation_post_process): HistogramObserver(min_val=inf, max_val=-inf)\n      )\n      (conv2): Conv2d(\n        256, 256, kernel_size=(3, 3), stride=(1, 1), padding=(1, 1), bias=False\n        (activation_post_process): HistogramObserver(min_val=inf, max_val=-inf)\n      )\n      (bn2): BatchNorm2d(\n        256, eps=1e-05, momentum=0.1, affine=True, track_running_stats=True\n        (activation_post_process): HistogramObserver(min_val=inf, max_val=-inf)\n      )\n      (conv3): Conv2d(\n        256, 1024, kernel_size=(1, 1), stride=(1, 1), bias=False\n        (activation_post_process): HistogramObserver(min_val=inf, max_val=-inf)\n      )\n      (bn3): BatchNorm2d(\n        1024, eps=1e-05, momentum=0.1, affine=True, track_running_stats=True\n        (activation_post_process): HistogramObserver(min_val=inf, max_val=-inf)\n      )\n      (relu): ReLU(inplace=True)\n    )\n    (5): Bottleneck(\n      (conv1): Conv2d(\n        1024, 256, kernel_size=(1, 1), stride=(1, 1), bias=False\n        (activation_post_process): HistogramObserver(min_val=inf, max_val=-inf)\n      )\n      (bn1): BatchNorm2d(\n        256, eps=1e-05, momentum=0.1, affine=True, track_running_stats=True\n        (activation_post_process): HistogramObserver(min_val=inf, max_val=-inf)\n      )\n      (conv2): Conv2d(\n        256, 256, kernel_size=(3, 3), stride=(1, 1), padding=(1, 1), bias=False\n        (activation_post_process): HistogramObserver(min_val=inf, max_val=-inf)\n      )\n      (bn2): BatchNorm2d(\n        256, eps=1e-05, momentum=0.1, affine=True, track_running_stats=True\n        (activation_post_process): HistogramObserver(min_val=inf, max_val=-inf)\n      )\n      (conv3): Conv2d(\n        256, 1024, kernel_size=(1, 1), stride=(1, 1), bias=False\n        (activation_post_process): HistogramObserver(min_val=inf, max_val=-inf)\n      )\n      (bn3): BatchNorm2d(\n        1024, eps=1e-05, momentum=0.1, affine=True, track_running_stats=True\n        (activation_post_process): HistogramObserver(min_val=inf, max_val=-inf)\n      )\n      (relu): ReLU(inplace=True)\n    )\n  )\n  (layer4): Sequential(\n    (0): Bottleneck(\n      (conv1): Conv2d(\n        1024, 512, kernel_size=(1, 1), stride=(1, 1), bias=False\n        (activation_post_process): HistogramObserver(min_val=inf, max_val=-inf)\n      )\n      (bn1): BatchNorm2d(\n        512, eps=1e-05, momentum=0.1, affine=True, track_running_stats=True\n        (activation_post_process): HistogramObserver(min_val=inf, max_val=-inf)\n      )\n      (conv2): Conv2d(\n        512, 512, kernel_size=(3, 3), stride=(2, 2), padding=(1, 1), bias=False\n        (activation_post_process): HistogramObserver(min_val=inf, max_val=-inf)\n      )\n      (bn2): BatchNorm2d(\n        512, eps=1e-05, momentum=0.1, affine=True, track_running_stats=True\n        (activation_post_process): HistogramObserver(min_val=inf, max_val=-inf)\n      )\n      (conv3): Conv2d(\n        512, 2048, kernel_size=(1, 1), stride=(1, 1), bias=False\n        (activation_post_process): HistogramObserver(min_val=inf, max_val=-inf)\n      )\n      (bn3): BatchNorm2d(\n        2048, eps=1e-05, momentum=0.1, affine=True, track_running_stats=True\n        (activation_post_process): HistogramObserver(min_val=inf, max_val=-inf)\n      )\n      (relu): ReLU(inplace=True)\n      (downsample): Sequential(\n        (0): Conv2d(\n          1024, 2048, kernel_size=(1, 1), stride=(2, 2), bias=False\n          (activation_post_process): HistogramObserver(min_val=inf, max_val=-inf)\n        )\n        (1): BatchNorm2d(\n          2048, eps=1e-05, momentum=0.1, affine=True, track_running_stats=True\n          (activation_post_process): HistogramObserver(min_val=inf, max_val=-inf)\n        )\n      )\n    )\n    (1): Bottleneck(\n      (conv1): Conv2d(\n        2048, 512, kernel_size=(1, 1), stride=(1, 1), bias=False\n        (activation_post_process): HistogramObserver(min_val=inf, max_val=-inf)\n      )\n      (bn1): BatchNorm2d(\n        512, eps=1e-05, momentum=0.1, affine=True, track_running_stats=True\n        (activation_post_process): HistogramObserver(min_val=inf, max_val=-inf)\n      )\n      (conv2): Conv2d(\n        512, 512, kernel_size=(3, 3), stride=(1, 1), padding=(1, 1), bias=False\n        (activation_post_process): HistogramObserver(min_val=inf, max_val=-inf)\n      )\n      (bn2): BatchNorm2d(\n        512, eps=1e-05, momentum=0.1, affine=True, track_running_stats=True\n        (activation_post_process): HistogramObserver(min_val=inf, max_val=-inf)\n      )\n      (conv3): Conv2d(\n        512, 2048, kernel_size=(1, 1), stride=(1, 1), bias=False\n        (activation_post_process): HistogramObserver(min_val=inf, max_val=-inf)\n      )\n      (bn3): BatchNorm2d(\n        2048, eps=1e-05, momentum=0.1, affine=True, track_running_stats=True\n        (activation_post_process): HistogramObserver(min_val=inf, max_val=-inf)\n      )\n      (relu): ReLU(inplace=True)\n    )\n    (2): Bottleneck(\n      (conv1): Conv2d(\n        2048, 512, kernel_size=(1, 1), stride=(1, 1), bias=False\n        (activation_post_process): HistogramObserver(min_val=inf, max_val=-inf)\n      )\n      (bn1): BatchNorm2d(\n        512, eps=1e-05, momentum=0.1, affine=True, track_running_stats=True\n        (activation_post_process): HistogramObserver(min_val=inf, max_val=-inf)\n      )\n      (conv2): Conv2d(\n        512, 512, kernel_size=(3, 3), stride=(1, 1), padding=(1, 1), bias=False\n        (activation_post_process): HistogramObserver(min_val=inf, max_val=-inf)\n      )\n      (bn2): BatchNorm2d(\n        512, eps=1e-05, momentum=0.1, affine=True, track_running_stats=True\n        (activation_post_process): HistogramObserver(min_val=inf, max_val=-inf)\n      )\n      (conv3): Conv2d(\n        512, 2048, kernel_size=(1, 1), stride=(1, 1), bias=False\n        (activation_post_process): HistogramObserver(min_val=inf, max_val=-inf)\n      )\n      (bn3): BatchNorm2d(\n        2048, eps=1e-05, momentum=0.1, affine=True, track_running_stats=True\n        (activation_post_process): HistogramObserver(min_val=inf, max_val=-inf)\n      )\n      (relu): ReLU(inplace=True)\n    )\n  )\n  (avgpool): AdaptiveAvgPool2d(output_size=(1, 1))\n  (fc): Linear(\n    in_features=2048, out_features=100, bias=True\n    (activation_post_process): HistogramObserver(min_val=inf, max_val=-inf)\n  )\n)"
     },
     "execution_count": 3,
     "metadata": {},
     "output_type": "execute_result"
    }
   ],
   "source": [
    "model.load_state_dict(torch.load('resnet_cifar100.pth'))\n",
    "\n",
    "# Fuse the model layers\n",
    "model.eval()\n",
    "\n",
    "# Specify the quantization configuration\n",
    "model.qconfig = torch.quantization.get_default_qconfig('fbgemm')  # default_dynamic_qconfig # get_default_qconfig\n",
    "\n",
    "# Prepare the model for quantization\n",
    "torch.quantization.prepare(model, inplace=True)"
   ],
   "metadata": {
    "collapsed": false,
    "ExecuteTime": {
     "end_time": "2024-03-30T12:47:30.325328Z",
     "start_time": "2024-03-30T12:47:30.104693Z"
    }
   },
   "id": "9105f44ae8fa9057",
   "execution_count": 3
  },
  {
   "cell_type": "code",
   "outputs": [],
   "source": [
    "my_transforms = transforms.Compose([\n",
    "    transforms.ToTensor(),\n",
    "    transforms.Normalize((0.5071, 0.4867, 0.4408), (0.2675, 0.2565, 0.2761)),\n",
    "])"
   ],
   "metadata": {
    "collapsed": false,
    "ExecuteTime": {
     "end_time": "2024-03-30T12:47:30.341333Z",
     "start_time": "2024-03-30T12:47:30.326328Z"
    }
   },
   "id": "42e5a84ca23a9ac9",
   "execution_count": 4
  },
  {
   "cell_type": "code",
   "outputs": [
    {
     "name": "stdout",
     "output_type": "stream",
     "text": [
      "Files already downloaded and verified\n"
     ]
    }
   ],
   "source": [
    "# Perform calibration on a representative dataset\n",
    "calibration_dataset = datasets.CIFAR100(root='./data', train=False, download=True, transform=my_transforms)\n",
    "calibration_dataloader = DataLoader(calibration_dataset, batch_size=128)"
   ],
   "metadata": {
    "collapsed": false,
    "ExecuteTime": {
     "end_time": "2024-03-30T12:47:30.846263Z",
     "start_time": "2024-03-30T12:47:30.342333Z"
    }
   },
   "id": "2be66df55bc562d8",
   "execution_count": 5
  },
  {
   "cell_type": "code",
   "outputs": [],
   "source": [
    "# quant = torch.ao.quantization.QuantStub()"
   ],
   "metadata": {
    "collapsed": false,
    "ExecuteTime": {
     "end_time": "2024-03-30T12:47:30.862324Z",
     "start_time": "2024-03-30T12:47:30.847263Z"
    }
   },
   "id": "1f86252f623357f4",
   "execution_count": 6
  },
  {
   "cell_type": "code",
   "outputs": [
    {
     "name": "stdout",
     "output_type": "stream",
     "text": [
      "79  / 79 done.\r"
     ]
    }
   ],
   "source": [
    "# Run calibration\n",
    "i = 0\n",
    "with torch.no_grad():\n",
    "    for inputs, _ in calibration_dataloader:\n",
    "        model(inputs)\n",
    "        print(f'{i + 1}  / {len(calibration_dataloader)} done.', end='\\r')\n",
    "        i += 1"
   ],
   "metadata": {
    "collapsed": false,
    "ExecuteTime": {
     "end_time": "2024-03-30T12:47:57.228543Z",
     "start_time": "2024-03-30T12:47:30.863324Z"
    }
   },
   "id": "6ebbddb0161b6562",
   "execution_count": 7
  },
  {
   "cell_type": "code",
   "outputs": [
    {
     "name": "stdout",
     "output_type": "stream",
     "text": [
      "Files already downloaded and verified\n",
      "Files already downloaded and verified\n"
     ]
    }
   ],
   "source": [
    "# Load CIFAR-100 dataset\n",
    "train_dataset = datasets.CIFAR100(root='./data', train=True, download=True, transform=my_transforms)\n",
    "test_dataset = datasets.CIFAR100(root='./data', train=False, download=True, transform=my_transforms)\n",
    "\n",
    "train_dataloader = DataLoader(train_dataset, batch_size=512, shuffle=True)\n",
    "test_dataloader = DataLoader(test_dataset, batch_size=512, shuffle=False)"
   ],
   "metadata": {
    "collapsed": false,
    "ExecuteTime": {
     "end_time": "2024-03-30T12:47:58.305944Z",
     "start_time": "2024-03-30T12:47:57.229544Z"
    }
   },
   "id": "4f73415ebe7ccc25",
   "execution_count": 8
  },
  {
   "cell_type": "code",
   "outputs": [],
   "source": [
    "def test(dataloader, type):\n",
    "    # Evaluate the quantized model\n",
    "    model.eval()\n",
    "\n",
    "    with torch.no_grad():\n",
    "        correct = 0\n",
    "        total = 0\n",
    "        for idx, batch in enumerate(dataloader):\n",
    "            inputs, labels = batch\n",
    "            outputs = model(inputs)\n",
    "            _, predicted = torch.max(outputs.data, 1)\n",
    "            total += labels.size(0)\n",
    "            correct += (predicted == labels).sum().item()\n",
    "            print(f'[{type}] {idx + 1}  / {len(dataloader)} done.', end='\\r')\n",
    "\n",
    "        accuracy = 100 * correct / total\n",
    "        print(f'Quantized model in {type} accuracy: {accuracy:.2f}%')"
   ],
   "metadata": {
    "collapsed": false,
    "ExecuteTime": {
     "end_time": "2024-03-30T12:47:58.320947Z",
     "start_time": "2024-03-30T12:47:58.306944Z"
    }
   },
   "id": "6a29d66f4b2a035c",
   "execution_count": 9
  },
  {
   "cell_type": "code",
   "outputs": [
    {
     "name": "stdout",
     "output_type": "stream",
     "text": [
      "Quantized model in train dataset accuracy: 92.17%\n",
      "Quantized model in test dataset accuracy: 49.02%\n"
     ]
    }
   ],
   "source": [
    "test(train_dataloader, 'train dataset')\n",
    "test(test_dataloader, 'test dataset')"
   ],
   "metadata": {
    "collapsed": false,
    "ExecuteTime": {
     "end_time": "2024-03-30T12:50:25.092220Z",
     "start_time": "2024-03-30T12:47:58.322947Z"
    }
   },
   "id": "2d6ab217f187e2ed",
   "execution_count": 10
  },
  {
   "cell_type": "code",
   "outputs": [],
   "source": [
    "# Convert the model to a quantized model\n",
    "torch.quantization.convert(model.eval(), inplace=True)\n",
    "\n",
    "# Save the quantized model\n",
    "torch.save(model.state_dict(), 'quantized_resnet_cifar100.pth')\n",
    "\n",
    "# Get the size of the saved model file\n",
    "model_size = os.path.getsize('quantized_resnet_cifar100.pth') / (1024 * 1024)  # Size in MB\n",
    "print(f\"Pruned model size: {model_size:.2f} MB\")"
   ],
   "metadata": {
    "collapsed": false,
    "ExecuteTime": {
     "end_time": "2024-03-30T12:50:27.278752Z",
     "start_time": "2024-03-30T12:50:25.093220Z"
    }
   },
   "id": "584026575843ff13",
   "execution_count": 11
  },
  {
   "cell_type": "code",
   "outputs": [],
   "source": [],
   "metadata": {
    "collapsed": false,
    "ExecuteTime": {
     "end_time": "2024-03-30T12:50:27.294757Z",
     "start_time": "2024-03-30T12:50:27.278752Z"
    }
   },
   "id": "7099180f1ffa376",
   "execution_count": 11
  }
 ],
 "metadata": {
  "kernelspec": {
   "display_name": "Python 3",
   "language": "python",
   "name": "python3"
  },
  "language_info": {
   "codemirror_mode": {
    "name": "ipython",
    "version": 2
   },
   "file_extension": ".py",
   "mimetype": "text/x-python",
   "name": "python",
   "nbconvert_exporter": "python",
   "pygments_lexer": "ipython2",
   "version": "2.7.6"
  }
 },
 "nbformat": 4,
 "nbformat_minor": 5
}
