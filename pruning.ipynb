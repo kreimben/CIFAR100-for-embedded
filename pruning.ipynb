{
 "cells": [
  {
   "cell_type": "markdown",
   "source": [
    "# Prune the pre-trained model."
   ],
   "metadata": {
    "collapsed": false
   },
   "id": "9d23eeffd64a04ea"
  },
  {
   "cell_type": "code",
   "outputs": [],
   "source": [
    "import os\n",
    "from datetime import datetime\n",
    "\n",
    "import pandas as pd\n",
    "import torch\n",
    "import torch.nn.utils.prune as prune\n",
    "from accelerate import Accelerator\n",
    "from evaluate import load\n",
    "from torch import nn, optim\n",
    "from torch.utils.data import DataLoader\n",
    "from torchvision import models, datasets\n",
    "from torchvision.transforms import transforms\n",
    "\n",
    "from src.utils import calculate_sparsity\n"
   ],
   "metadata": {
    "collapsed": false,
    "ExecuteTime": {
     "end_time": "2024-03-31T01:02:58.856531Z",
     "start_time": "2024-03-31T01:02:55.716894Z"
    }
   },
   "id": "32ab82eaf911b3a0",
   "execution_count": 1
  },
  {
   "cell_type": "code",
   "outputs": [],
   "source": [
    "# Set device\n",
    "accelerator = Accelerator(device_placement=True)\n",
    "device = accelerator.device"
   ],
   "metadata": {
    "collapsed": false,
    "ExecuteTime": {
     "end_time": "2024-03-31T01:02:58.904543Z",
     "start_time": "2024-03-31T01:02:58.857532Z"
    }
   },
   "id": "3765536794ffd899",
   "execution_count": 2
  },
  {
   "cell_type": "code",
   "outputs": [
    {
     "data": {
      "text/plain": "ResNet(\n  (conv1): Conv2d(3, 64, kernel_size=(7, 7), stride=(2, 2), padding=(3, 3), bias=False)\n  (bn1): BatchNorm2d(64, eps=1e-05, momentum=0.1, affine=True, track_running_stats=True)\n  (relu): ReLU(inplace=True)\n  (maxpool): MaxPool2d(kernel_size=3, stride=2, padding=1, dilation=1, ceil_mode=False)\n  (layer1): Sequential(\n    (0): Bottleneck(\n      (conv1): Conv2d(64, 64, kernel_size=(1, 1), stride=(1, 1), bias=False)\n      (bn1): BatchNorm2d(64, eps=1e-05, momentum=0.1, affine=True, track_running_stats=True)\n      (conv2): Conv2d(64, 64, kernel_size=(3, 3), stride=(1, 1), padding=(1, 1), bias=False)\n      (bn2): BatchNorm2d(64, eps=1e-05, momentum=0.1, affine=True, track_running_stats=True)\n      (conv3): Conv2d(64, 256, kernel_size=(1, 1), stride=(1, 1), bias=False)\n      (bn3): BatchNorm2d(256, eps=1e-05, momentum=0.1, affine=True, track_running_stats=True)\n      (relu): ReLU(inplace=True)\n      (downsample): Sequential(\n        (0): Conv2d(64, 256, kernel_size=(1, 1), stride=(1, 1), bias=False)\n        (1): BatchNorm2d(256, eps=1e-05, momentum=0.1, affine=True, track_running_stats=True)\n      )\n    )\n    (1): Bottleneck(\n      (conv1): Conv2d(256, 64, kernel_size=(1, 1), stride=(1, 1), bias=False)\n      (bn1): BatchNorm2d(64, eps=1e-05, momentum=0.1, affine=True, track_running_stats=True)\n      (conv2): Conv2d(64, 64, kernel_size=(3, 3), stride=(1, 1), padding=(1, 1), bias=False)\n      (bn2): BatchNorm2d(64, eps=1e-05, momentum=0.1, affine=True, track_running_stats=True)\n      (conv3): Conv2d(64, 256, kernel_size=(1, 1), stride=(1, 1), bias=False)\n      (bn3): BatchNorm2d(256, eps=1e-05, momentum=0.1, affine=True, track_running_stats=True)\n      (relu): ReLU(inplace=True)\n    )\n    (2): Bottleneck(\n      (conv1): Conv2d(256, 64, kernel_size=(1, 1), stride=(1, 1), bias=False)\n      (bn1): BatchNorm2d(64, eps=1e-05, momentum=0.1, affine=True, track_running_stats=True)\n      (conv2): Conv2d(64, 64, kernel_size=(3, 3), stride=(1, 1), padding=(1, 1), bias=False)\n      (bn2): BatchNorm2d(64, eps=1e-05, momentum=0.1, affine=True, track_running_stats=True)\n      (conv3): Conv2d(64, 256, kernel_size=(1, 1), stride=(1, 1), bias=False)\n      (bn3): BatchNorm2d(256, eps=1e-05, momentum=0.1, affine=True, track_running_stats=True)\n      (relu): ReLU(inplace=True)\n    )\n  )\n  (layer2): Sequential(\n    (0): Bottleneck(\n      (conv1): Conv2d(256, 128, kernel_size=(1, 1), stride=(1, 1), bias=False)\n      (bn1): BatchNorm2d(128, eps=1e-05, momentum=0.1, affine=True, track_running_stats=True)\n      (conv2): Conv2d(128, 128, kernel_size=(3, 3), stride=(2, 2), padding=(1, 1), bias=False)\n      (bn2): BatchNorm2d(128, eps=1e-05, momentum=0.1, affine=True, track_running_stats=True)\n      (conv3): Conv2d(128, 512, kernel_size=(1, 1), stride=(1, 1), bias=False)\n      (bn3): BatchNorm2d(512, eps=1e-05, momentum=0.1, affine=True, track_running_stats=True)\n      (relu): ReLU(inplace=True)\n      (downsample): Sequential(\n        (0): Conv2d(256, 512, kernel_size=(1, 1), stride=(2, 2), bias=False)\n        (1): BatchNorm2d(512, eps=1e-05, momentum=0.1, affine=True, track_running_stats=True)\n      )\n    )\n    (1): Bottleneck(\n      (conv1): Conv2d(512, 128, kernel_size=(1, 1), stride=(1, 1), bias=False)\n      (bn1): BatchNorm2d(128, eps=1e-05, momentum=0.1, affine=True, track_running_stats=True)\n      (conv2): Conv2d(128, 128, kernel_size=(3, 3), stride=(1, 1), padding=(1, 1), bias=False)\n      (bn2): BatchNorm2d(128, eps=1e-05, momentum=0.1, affine=True, track_running_stats=True)\n      (conv3): Conv2d(128, 512, kernel_size=(1, 1), stride=(1, 1), bias=False)\n      (bn3): BatchNorm2d(512, eps=1e-05, momentum=0.1, affine=True, track_running_stats=True)\n      (relu): ReLU(inplace=True)\n    )\n    (2): Bottleneck(\n      (conv1): Conv2d(512, 128, kernel_size=(1, 1), stride=(1, 1), bias=False)\n      (bn1): BatchNorm2d(128, eps=1e-05, momentum=0.1, affine=True, track_running_stats=True)\n      (conv2): Conv2d(128, 128, kernel_size=(3, 3), stride=(1, 1), padding=(1, 1), bias=False)\n      (bn2): BatchNorm2d(128, eps=1e-05, momentum=0.1, affine=True, track_running_stats=True)\n      (conv3): Conv2d(128, 512, kernel_size=(1, 1), stride=(1, 1), bias=False)\n      (bn3): BatchNorm2d(512, eps=1e-05, momentum=0.1, affine=True, track_running_stats=True)\n      (relu): ReLU(inplace=True)\n    )\n    (3): Bottleneck(\n      (conv1): Conv2d(512, 128, kernel_size=(1, 1), stride=(1, 1), bias=False)\n      (bn1): BatchNorm2d(128, eps=1e-05, momentum=0.1, affine=True, track_running_stats=True)\n      (conv2): Conv2d(128, 128, kernel_size=(3, 3), stride=(1, 1), padding=(1, 1), bias=False)\n      (bn2): BatchNorm2d(128, eps=1e-05, momentum=0.1, affine=True, track_running_stats=True)\n      (conv3): Conv2d(128, 512, kernel_size=(1, 1), stride=(1, 1), bias=False)\n      (bn3): BatchNorm2d(512, eps=1e-05, momentum=0.1, affine=True, track_running_stats=True)\n      (relu): ReLU(inplace=True)\n    )\n  )\n  (layer3): Sequential(\n    (0): Bottleneck(\n      (conv1): Conv2d(512, 256, kernel_size=(1, 1), stride=(1, 1), bias=False)\n      (bn1): BatchNorm2d(256, eps=1e-05, momentum=0.1, affine=True, track_running_stats=True)\n      (conv2): Conv2d(256, 256, kernel_size=(3, 3), stride=(2, 2), padding=(1, 1), bias=False)\n      (bn2): BatchNorm2d(256, eps=1e-05, momentum=0.1, affine=True, track_running_stats=True)\n      (conv3): Conv2d(256, 1024, kernel_size=(1, 1), stride=(1, 1), bias=False)\n      (bn3): BatchNorm2d(1024, eps=1e-05, momentum=0.1, affine=True, track_running_stats=True)\n      (relu): ReLU(inplace=True)\n      (downsample): Sequential(\n        (0): Conv2d(512, 1024, kernel_size=(1, 1), stride=(2, 2), bias=False)\n        (1): BatchNorm2d(1024, eps=1e-05, momentum=0.1, affine=True, track_running_stats=True)\n      )\n    )\n    (1): Bottleneck(\n      (conv1): Conv2d(1024, 256, kernel_size=(1, 1), stride=(1, 1), bias=False)\n      (bn1): BatchNorm2d(256, eps=1e-05, momentum=0.1, affine=True, track_running_stats=True)\n      (conv2): Conv2d(256, 256, kernel_size=(3, 3), stride=(1, 1), padding=(1, 1), bias=False)\n      (bn2): BatchNorm2d(256, eps=1e-05, momentum=0.1, affine=True, track_running_stats=True)\n      (conv3): Conv2d(256, 1024, kernel_size=(1, 1), stride=(1, 1), bias=False)\n      (bn3): BatchNorm2d(1024, eps=1e-05, momentum=0.1, affine=True, track_running_stats=True)\n      (relu): ReLU(inplace=True)\n    )\n    (2): Bottleneck(\n      (conv1): Conv2d(1024, 256, kernel_size=(1, 1), stride=(1, 1), bias=False)\n      (bn1): BatchNorm2d(256, eps=1e-05, momentum=0.1, affine=True, track_running_stats=True)\n      (conv2): Conv2d(256, 256, kernel_size=(3, 3), stride=(1, 1), padding=(1, 1), bias=False)\n      (bn2): BatchNorm2d(256, eps=1e-05, momentum=0.1, affine=True, track_running_stats=True)\n      (conv3): Conv2d(256, 1024, kernel_size=(1, 1), stride=(1, 1), bias=False)\n      (bn3): BatchNorm2d(1024, eps=1e-05, momentum=0.1, affine=True, track_running_stats=True)\n      (relu): ReLU(inplace=True)\n    )\n    (3): Bottleneck(\n      (conv1): Conv2d(1024, 256, kernel_size=(1, 1), stride=(1, 1), bias=False)\n      (bn1): BatchNorm2d(256, eps=1e-05, momentum=0.1, affine=True, track_running_stats=True)\n      (conv2): Conv2d(256, 256, kernel_size=(3, 3), stride=(1, 1), padding=(1, 1), bias=False)\n      (bn2): BatchNorm2d(256, eps=1e-05, momentum=0.1, affine=True, track_running_stats=True)\n      (conv3): Conv2d(256, 1024, kernel_size=(1, 1), stride=(1, 1), bias=False)\n      (bn3): BatchNorm2d(1024, eps=1e-05, momentum=0.1, affine=True, track_running_stats=True)\n      (relu): ReLU(inplace=True)\n    )\n    (4): Bottleneck(\n      (conv1): Conv2d(1024, 256, kernel_size=(1, 1), stride=(1, 1), bias=False)\n      (bn1): BatchNorm2d(256, eps=1e-05, momentum=0.1, affine=True, track_running_stats=True)\n      (conv2): Conv2d(256, 256, kernel_size=(3, 3), stride=(1, 1), padding=(1, 1), bias=False)\n      (bn2): BatchNorm2d(256, eps=1e-05, momentum=0.1, affine=True, track_running_stats=True)\n      (conv3): Conv2d(256, 1024, kernel_size=(1, 1), stride=(1, 1), bias=False)\n      (bn3): BatchNorm2d(1024, eps=1e-05, momentum=0.1, affine=True, track_running_stats=True)\n      (relu): ReLU(inplace=True)\n    )\n    (5): Bottleneck(\n      (conv1): Conv2d(1024, 256, kernel_size=(1, 1), stride=(1, 1), bias=False)\n      (bn1): BatchNorm2d(256, eps=1e-05, momentum=0.1, affine=True, track_running_stats=True)\n      (conv2): Conv2d(256, 256, kernel_size=(3, 3), stride=(1, 1), padding=(1, 1), bias=False)\n      (bn2): BatchNorm2d(256, eps=1e-05, momentum=0.1, affine=True, track_running_stats=True)\n      (conv3): Conv2d(256, 1024, kernel_size=(1, 1), stride=(1, 1), bias=False)\n      (bn3): BatchNorm2d(1024, eps=1e-05, momentum=0.1, affine=True, track_running_stats=True)\n      (relu): ReLU(inplace=True)\n    )\n  )\n  (layer4): Sequential(\n    (0): Bottleneck(\n      (conv1): Conv2d(1024, 512, kernel_size=(1, 1), stride=(1, 1), bias=False)\n      (bn1): BatchNorm2d(512, eps=1e-05, momentum=0.1, affine=True, track_running_stats=True)\n      (conv2): Conv2d(512, 512, kernel_size=(3, 3), stride=(2, 2), padding=(1, 1), bias=False)\n      (bn2): BatchNorm2d(512, eps=1e-05, momentum=0.1, affine=True, track_running_stats=True)\n      (conv3): Conv2d(512, 2048, kernel_size=(1, 1), stride=(1, 1), bias=False)\n      (bn3): BatchNorm2d(2048, eps=1e-05, momentum=0.1, affine=True, track_running_stats=True)\n      (relu): ReLU(inplace=True)\n      (downsample): Sequential(\n        (0): Conv2d(1024, 2048, kernel_size=(1, 1), stride=(2, 2), bias=False)\n        (1): BatchNorm2d(2048, eps=1e-05, momentum=0.1, affine=True, track_running_stats=True)\n      )\n    )\n    (1): Bottleneck(\n      (conv1): Conv2d(2048, 512, kernel_size=(1, 1), stride=(1, 1), bias=False)\n      (bn1): BatchNorm2d(512, eps=1e-05, momentum=0.1, affine=True, track_running_stats=True)\n      (conv2): Conv2d(512, 512, kernel_size=(3, 3), stride=(1, 1), padding=(1, 1), bias=False)\n      (bn2): BatchNorm2d(512, eps=1e-05, momentum=0.1, affine=True, track_running_stats=True)\n      (conv3): Conv2d(512, 2048, kernel_size=(1, 1), stride=(1, 1), bias=False)\n      (bn3): BatchNorm2d(2048, eps=1e-05, momentum=0.1, affine=True, track_running_stats=True)\n      (relu): ReLU(inplace=True)\n    )\n    (2): Bottleneck(\n      (conv1): Conv2d(2048, 512, kernel_size=(1, 1), stride=(1, 1), bias=False)\n      (bn1): BatchNorm2d(512, eps=1e-05, momentum=0.1, affine=True, track_running_stats=True)\n      (conv2): Conv2d(512, 512, kernel_size=(3, 3), stride=(1, 1), padding=(1, 1), bias=False)\n      (bn2): BatchNorm2d(512, eps=1e-05, momentum=0.1, affine=True, track_running_stats=True)\n      (conv3): Conv2d(512, 2048, kernel_size=(1, 1), stride=(1, 1), bias=False)\n      (bn3): BatchNorm2d(2048, eps=1e-05, momentum=0.1, affine=True, track_running_stats=True)\n      (relu): ReLU(inplace=True)\n    )\n  )\n  (avgpool): AdaptiveAvgPool2d(output_size=(1, 1))\n  (fc): Linear(in_features=2048, out_features=100, bias=True)\n)"
     },
     "execution_count": 3,
     "metadata": {},
     "output_type": "execute_result"
    }
   ],
   "source": [
    "# load pretrained model.\n",
    "model = models.resnet50()\n",
    "model.fc = nn.Linear(model.fc.in_features, 100)  # resnet\n",
    "model.load_state_dict(torch.load('resnet_cifar100.pth'))\n",
    "\n",
    "# Fuse the model layers\n",
    "model.eval()"
   ],
   "metadata": {
    "collapsed": false,
    "ExecuteTime": {
     "end_time": "2024-03-31T01:02:59.334659Z",
     "start_time": "2024-03-31T01:02:58.905543Z"
    }
   },
   "id": "440cada178248729",
   "execution_count": 3
  },
  {
   "cell_type": "code",
   "outputs": [
    {
     "data": {
      "text/plain": "'Sparsity of the model is 73.46920967102051%.'"
     },
     "execution_count": 4,
     "metadata": {},
     "output_type": "execute_result"
    }
   ],
   "source": [
    "# Increase pruning ratio\n",
    "pruning_ratio = .5\n",
    "\n",
    "# Apply unstructured pruning\n",
    "for module in model.modules():\n",
    "    if isinstance(module, torch.nn.Conv2d):\n",
    "        prune.l1_unstructured(module, name='weight', amount=pruning_ratio)\n",
    "    elif isinstance(module, torch.nn.Linear):\n",
    "        prune.l1_unstructured(module, name='weight', amount=pruning_ratio)\n",
    "    elif isinstance(module, torch.nn.BatchNorm2d):\n",
    "        prune.l1_unstructured(module, name='weight', amount=pruning_ratio)\n",
    "        prune.l1_unstructured(module, name='bias', amount=pruning_ratio)\n",
    "\n",
    "# Apply structured pruning (channel pruning)\n",
    "for module in model.modules():\n",
    "    if isinstance(module, torch.nn.Conv2d):\n",
    "        prune.ln_structured(module, name='weight', amount=pruning_ratio, n=1, dim=0)\n",
    "\n",
    "# Remove the pruning reparameterization\n",
    "for module in model.modules():\n",
    "    if isinstance(module, torch.nn.Conv2d) or isinstance(module, torch.nn.Linear) or \\\n",
    "            isinstance(module, torch.nn.BatchNorm2d):\n",
    "        prune.remove(module, 'weight')\n",
    "        if isinstance(module, torch.nn.BatchNorm2d):\n",
    "            prune.remove(module, 'bias')\n",
    "\n",
    "f'Sparsity of the model is {calculate_sparsity(model) * 100}%.'"
   ],
   "metadata": {
    "collapsed": false,
    "ExecuteTime": {
     "end_time": "2024-03-31T01:03:02.360802Z",
     "start_time": "2024-03-31T01:02:59.342662Z"
    }
   },
   "id": "106f1aed16103f97",
   "execution_count": 4
  },
  {
   "cell_type": "code",
   "outputs": [],
   "source": [
    "norm = transforms.Normalize((0.5071, 0.4867, 0.4408), (0.2675, 0.2565, 0.2761))\n",
    "\n",
    "transform_train = transforms.Compose([\n",
    "    transforms.RandomCrop(32, padding=4),\n",
    "    transforms.RandomHorizontalFlip(),\n",
    "    transforms.ToTensor(),\n",
    "    norm,\n",
    "])\n",
    "\n",
    "transform_test = transforms.Compose([\n",
    "    transforms.ToTensor(),\n",
    "    norm,\n",
    "])"
   ],
   "metadata": {
    "collapsed": false,
    "ExecuteTime": {
     "end_time": "2024-03-31T01:03:02.376806Z",
     "start_time": "2024-03-31T01:03:02.361803Z"
    }
   },
   "id": "42e5a84ca23a9ac9",
   "execution_count": 5
  },
  {
   "cell_type": "code",
   "outputs": [
    {
     "name": "stdout",
     "output_type": "stream",
     "text": [
      "Files already downloaded and verified\n",
      "Files already downloaded and verified\n"
     ]
    }
   ],
   "source": [
    "# Load CIFAR-100 dataset\n",
    "train_dataset = datasets.CIFAR100(root='./data', train=True, download=True, transform=transform_train)\n",
    "test_dataset = datasets.CIFAR100(root='./data', train=False, download=True, transform=transform_test)\n",
    "\n",
    "train_dataloader = DataLoader(train_dataset, batch_size=512, shuffle=True)\n",
    "test_dataloader = DataLoader(test_dataset, batch_size=512, shuffle=False)"
   ],
   "metadata": {
    "collapsed": false,
    "ExecuteTime": {
     "end_time": "2024-03-31T01:03:03.426613Z",
     "start_time": "2024-03-31T01:03:02.377807Z"
    }
   },
   "id": "4f73415ebe7ccc25",
   "execution_count": 6
  },
  {
   "cell_type": "code",
   "outputs": [],
   "source": [
    "# Define loss function and optimizer\n",
    "criterion = nn.CrossEntropyLoss()\n",
    "optimizer = optim.SGD(model.parameters(), lr=0.01, momentum=0.9, weight_decay=.001)\n",
    "scheduler = torch.optim.lr_scheduler.CosineAnnealingLR(optimizer, T_max=200)\n",
    "\n",
    "# Load evaluation metrics\n",
    "accuracy = load(\"accuracy\")\n",
    "f1 = load(\"f1\")\n",
    "\n",
    "model, optimizer, scheduler, train_dataloader, test_dataloader = accelerator.prepare(\n",
    "    model, optimizer, scheduler, train_dataloader, test_dataloader\n",
    ")"
   ],
   "metadata": {
    "collapsed": false,
    "ExecuteTime": {
     "end_time": "2024-03-31T01:03:06.159278Z",
     "start_time": "2024-03-31T01:03:03.427613Z"
    }
   },
   "id": "f1967afbe4e639dc",
   "execution_count": 7
  },
  {
   "cell_type": "code",
   "outputs": [],
   "source": [
    "training_result = []"
   ],
   "metadata": {
    "collapsed": false,
    "ExecuteTime": {
     "end_time": "2024-03-31T01:03:06.175282Z",
     "start_time": "2024-03-31T01:03:06.160279Z"
    }
   },
   "id": "436cce67a7ba03e6",
   "execution_count": 8
  },
  {
   "cell_type": "code",
   "outputs": [
    {
     "name": "stdout",
     "output_type": "stream",
     "text": [
      "Epoch [1/20]: Train Loss: 2.5355, Test Loss: 2.1969, Train Accuracy: 0.361, Test Accuracy: 0.4262, Test F1: 0.4162, lr: 0.009999383162408303, Elapsed Time: 0:00:16, Average Inference Time: 0.009 ms.\n",
      "Epoch [2/20]: Train Loss: 1.7876, Test Loss: 2.0095, Train Accuracy: 0.519, Test Accuracy: 0.4736, Test F1: 0.4675, lr: 0.009997532801828657, Elapsed Time: 0:00:16, Average Inference Time: 0.006 ms.\n",
      "Epoch [3/20]: Train Loss: 1.5238, Test Loss: 1.9393, Train Accuracy: 0.580, Test Accuracy: 0.4856, Test F1: 0.4830, lr: 0.00999444937480985, Elapsed Time: 0:00:16, Average Inference Time: 0.006 ms.\n",
      "Epoch [4/20]: Train Loss: 1.3435, Test Loss: 1.9832, Train Accuracy: 0.625, Test Accuracy: 0.4852, Test F1: 0.4848, lr: 0.009990133642141357, Elapsed Time: 0:00:16, Average Inference Time: 0.006 ms.\n",
      "Epoch [5/20]: Train Loss: 1.2220, Test Loss: 1.9810, Train Accuracy: 0.654, Test Accuracy: 0.4917, Test F1: 0.4911, lr: 0.009984586668665639, Elapsed Time: 0:00:16, Average Inference Time: 0.006 ms.\n",
      "Epoch [6/20]: Train Loss: 1.1283, Test Loss: 2.0026, Train Accuracy: 0.680, Test Accuracy: 0.4911, Test F1: 0.4875, lr: 0.009977809823015398, Elapsed Time: 0:00:16, Average Inference Time: 0.006 ms.\n",
      "Epoch [7/20]: Train Loss: 1.0318, Test Loss: 1.9667, Train Accuracy: 0.704, Test Accuracy: 0.5012, Test F1: 0.4973, lr: 0.009969804777275897, Elapsed Time: 0:00:16, Average Inference Time: 0.006 ms.\n",
      "Epoch [8/20]: Train Loss: 0.9442, Test Loss: 2.0416, Train Accuracy: 0.729, Test Accuracy: 0.4863, Test F1: 0.4861, lr: 0.009960573506572387, Elapsed Time: 0:00:16, Average Inference Time: 0.007 ms.\n",
      "Epoch [9/20]: Train Loss: 0.8946, Test Loss: 1.9880, Train Accuracy: 0.742, Test Accuracy: 0.5099, Test F1: 0.5059, lr: 0.009950118288582784, Elapsed Time: 0:00:16, Average Inference Time: 0.007 ms.\n",
      "Epoch [10/20]: Train Loss: 0.8226, Test Loss: 2.0689, Train Accuracy: 0.761, Test Accuracy: 0.4917, Test F1: 0.4921, lr: 0.009938441702975684, Elapsed Time: 0:00:16, Average Inference Time: 0.006 ms.\n",
      "Epoch [11/20]: Train Loss: 0.7883, Test Loss: 2.1419, Train Accuracy: 0.770, Test Accuracy: 0.4832, Test F1: 0.4839, lr: 0.009925546630773864, Elapsed Time: 0:00:16, Average Inference Time: 0.006 ms.\n",
      "Epoch [12/20]: Train Loss: 0.7281, Test Loss: 2.0739, Train Accuracy: 0.784, Test Accuracy: 0.4998, Test F1: 0.4988, lr: 0.009911436253643439, Elapsed Time: 0:00:16, Average Inference Time: 0.006 ms.\n",
      "Epoch [13/20]: Train Loss: 0.6936, Test Loss: 2.1140, Train Accuracy: 0.793, Test Accuracy: 0.4983, Test F1: 0.4993, lr: 0.009896114053108824, Elapsed Time: 0:00:16, Average Inference Time: 0.006 ms.\n",
      "Epoch [14/20]: Train Loss: 0.6362, Test Loss: 2.2030, Train Accuracy: 0.813, Test Accuracy: 0.4842, Test F1: 0.4856, lr: 0.009879583809693733, Elapsed Time: 0:00:16, Average Inference Time: 0.006 ms.\n",
      "Epoch [15/20]: Train Loss: 0.6061, Test Loss: 2.1867, Train Accuracy: 0.821, Test Accuracy: 0.4943, Test F1: 0.4912, lr: 0.009861849601988378, Elapsed Time: 0:00:16, Average Inference Time: 0.006 ms.\n",
      "Epoch [16/20]: Train Loss: 0.5730, Test Loss: 2.2215, Train Accuracy: 0.830, Test Accuracy: 0.4834, Test F1: 0.4820, lr: 0.00984291580564315, Elapsed Time: 0:00:16, Average Inference Time: 0.007 ms.\n",
      "Epoch [17/20]: Train Loss: 0.5366, Test Loss: 2.1763, Train Accuracy: 0.841, Test Accuracy: 0.5000, Test F1: 0.4969, lr: 0.009822787092288985, Elapsed Time: 0:00:16, Average Inference Time: 0.006 ms.\n",
      "Epoch [18/20]: Train Loss: 0.5133, Test Loss: 2.2047, Train Accuracy: 0.847, Test Accuracy: 0.4955, Test F1: 0.4935, lr: 0.00980146842838471, Elapsed Time: 0:00:16, Average Inference Time: 0.006 ms.\n",
      "Epoch [19/20]: Train Loss: 0.4697, Test Loss: 2.2491, Train Accuracy: 0.861, Test Accuracy: 0.4927, Test F1: 0.4888, lr: 0.009778965073991645, Elapsed Time: 0:00:16, Average Inference Time: 0.006 ms.\n",
      "Epoch [20/20]: Train Loss: 0.4497, Test Loss: 2.2864, Train Accuracy: 0.866, Test Accuracy: 0.4899, Test F1: 0.4917, lr: 0.009755282581475762, Elapsed Time: 0:00:16, Average Inference Time: 0.006 ms.\n"
     ]
    }
   ],
   "source": [
    "num_epochs = 20\n",
    "\n",
    "# Fine-tune the pruned model and evaluate for sparsed model.\n",
    "for epoch in range(num_epochs):\n",
    "    tic = datetime.now()\n",
    "\n",
    "    model.train()\n",
    "\n",
    "    train_loss = 0.0\n",
    "    correct = 0\n",
    "    total = 0\n",
    "\n",
    "    for images, labels in train_dataloader:\n",
    "        optimizer.zero_grad()\n",
    "        outputs = model(images)\n",
    "        loss = criterion(outputs, labels)\n",
    "        accelerator.backward(loss)\n",
    "        optimizer.step()\n",
    "        train_loss += loss.item()\n",
    "        _, predicted = outputs.max(1)\n",
    "        total += labels.size(0)\n",
    "        correct += predicted.eq(labels).sum().item()\n",
    "\n",
    "    train_loss /= len(train_dataloader)\n",
    "\n",
    "    model.eval()\n",
    "    test_loss = 0.0\n",
    "    test_preds = []\n",
    "    test_labels = []\n",
    "    test_total_time = 0.\n",
    "\n",
    "    with torch.no_grad():\n",
    "        for images, labels in test_dataloader:\n",
    "            test_tic = datetime.now()\n",
    "\n",
    "            outputs = model(images)\n",
    "\n",
    "            test_total_time += (datetime.now() - test_tic).total_seconds()\n",
    "\n",
    "            loss = criterion(outputs, labels)\n",
    "            test_loss += loss.item()\n",
    "\n",
    "            preds = torch.argmax(outputs, dim=1)\n",
    "            test_preds.extend(accelerator.gather(preds).cpu().numpy())\n",
    "            test_labels.extend(accelerator.gather(labels).cpu().numpy())\n",
    "\n",
    "    test_loss /= len(test_dataloader)\n",
    "    test_acc = accuracy.compute(references=test_labels, predictions=test_preds)[\"accuracy\"]\n",
    "    test_f1 = f1.compute(references=test_labels, predictions=test_preds, average=\"macro\")[\"f1\"]\n",
    "\n",
    "    # Update the learning rate based on validation loss\n",
    "    scheduler.step()\n",
    "\n",
    "    # Time calculation\n",
    "    toc = datetime.now()\n",
    "    elapsed_time = toc - tic\n",
    "    elapsed_time_in_hh_mm_ss = str(elapsed_time).split('.')[0]\n",
    "\n",
    "    print(\n",
    "        f\"Epoch [{epoch + 1}/{num_epochs}]: Train Loss: {train_loss:.4f}, Test Loss: {test_loss:.4f}, \"\n",
    "        f'Train Accuracy: {correct / total:.3f}, '\n",
    "        f\"Test Accuracy: {test_acc:.4f}, Test F1: {test_f1:.4f}, \"\n",
    "        f'lr: {optimizer.param_groups[0][\"lr\"]}, '\n",
    "        f'Elapsed Time: {elapsed_time_in_hh_mm_ss}, '\n",
    "        f'Average Inference Time: {test_total_time / len(test_dataloader):.3f} ms.\\n'\n",
    "    )\n",
    "\n",
    "    training_result.append({\n",
    "        'train_loss': train_loss,\n",
    "        'test_loss': test_loss,\n",
    "        'train_acc': correct / total,\n",
    "        'test_acc': test_acc,\n",
    "        'lr': optimizer.param_groups[0][\"lr\"],\n",
    "        'average_inference_time': test_total_time / len(test_dataloader),\n",
    "    })"
   ],
   "metadata": {
    "collapsed": false,
    "ExecuteTime": {
     "end_time": "2024-03-31T01:08:32.098599Z",
     "start_time": "2024-03-31T01:03:06.176283Z"
    }
   },
   "id": "4e0e2a1ba75d4bf7",
   "execution_count": 9
  },
  {
   "cell_type": "code",
   "outputs": [
    {
     "data": {
      "text/plain": "'Sparsity of the model is 65.29533267021179%.'"
     },
     "execution_count": 10,
     "metadata": {},
     "output_type": "execute_result"
    }
   ],
   "source": [
    "f'Sparsity of the model is {calculate_sparsity(model) * 100}%.'"
   ],
   "metadata": {
    "collapsed": false,
    "ExecuteTime": {
     "end_time": "2024-03-31T01:08:32.114602Z",
     "start_time": "2024-03-31T01:08:32.099599Z"
    }
   },
   "id": "bcc91b7c04295ee6",
   "execution_count": 10
  },
  {
   "cell_type": "code",
   "outputs": [
    {
     "data": {
      "text/plain": "   train_loss  test_loss  train_acc  test_acc        lr  \\\n0    2.535465   2.196871    0.36100    0.4262  0.009999   \n1    1.787591   2.009496    0.51874    0.4736  0.009998   \n2    1.523754   1.939279    0.57996    0.4856  0.009994   \n3    1.343515   1.983172    0.62456    0.4852  0.009990   \n4    1.222039   1.980970    0.65416    0.4917  0.009985   \n\n   average_inference_time  \n0                0.008778  \n1                0.006253  \n2                0.006424  \n3                0.006327  \n4                0.006335  ",
      "text/html": "<div>\n<style scoped>\n    .dataframe tbody tr th:only-of-type {\n        vertical-align: middle;\n    }\n\n    .dataframe tbody tr th {\n        vertical-align: top;\n    }\n\n    .dataframe thead th {\n        text-align: right;\n    }\n</style>\n<table border=\"1\" class=\"dataframe\">\n  <thead>\n    <tr style=\"text-align: right;\">\n      <th></th>\n      <th>train_loss</th>\n      <th>test_loss</th>\n      <th>train_acc</th>\n      <th>test_acc</th>\n      <th>lr</th>\n      <th>average_inference_time</th>\n    </tr>\n  </thead>\n  <tbody>\n    <tr>\n      <th>0</th>\n      <td>2.535465</td>\n      <td>2.196871</td>\n      <td>0.36100</td>\n      <td>0.4262</td>\n      <td>0.009999</td>\n      <td>0.008778</td>\n    </tr>\n    <tr>\n      <th>1</th>\n      <td>1.787591</td>\n      <td>2.009496</td>\n      <td>0.51874</td>\n      <td>0.4736</td>\n      <td>0.009998</td>\n      <td>0.006253</td>\n    </tr>\n    <tr>\n      <th>2</th>\n      <td>1.523754</td>\n      <td>1.939279</td>\n      <td>0.57996</td>\n      <td>0.4856</td>\n      <td>0.009994</td>\n      <td>0.006424</td>\n    </tr>\n    <tr>\n      <th>3</th>\n      <td>1.343515</td>\n      <td>1.983172</td>\n      <td>0.62456</td>\n      <td>0.4852</td>\n      <td>0.009990</td>\n      <td>0.006327</td>\n    </tr>\n    <tr>\n      <th>4</th>\n      <td>1.222039</td>\n      <td>1.980970</td>\n      <td>0.65416</td>\n      <td>0.4917</td>\n      <td>0.009985</td>\n      <td>0.006335</td>\n    </tr>\n  </tbody>\n</table>\n</div>"
     },
     "execution_count": 11,
     "metadata": {},
     "output_type": "execute_result"
    }
   ],
   "source": [
    "# index is epoch number.\n",
    "tr = pd.DataFrame(training_result,\n",
    "                  columns=['train_loss', 'test_loss', 'train_acc', 'test_acc', 'lr', 'average_inference_time'])\n",
    "tr.to_csv('pruned_model_result.csv')\n",
    "tr.head()"
   ],
   "metadata": {
    "collapsed": false,
    "ExecuteTime": {
     "end_time": "2024-03-31T01:08:32.130606Z",
     "start_time": "2024-03-31T01:08:32.114602Z"
    }
   },
   "id": "3bcebd7c1932310e",
   "execution_count": 11
  },
  {
   "cell_type": "code",
   "outputs": [
    {
     "name": "stdout",
     "output_type": "stream",
     "text": [
      "Pruned model size: 90.76 MB\n"
     ]
    }
   ],
   "source": [
    "# Save the pruned model to disk\n",
    "torch.save(model.state_dict(), \"pruned_model.pth\")\n",
    "\n",
    "# Get the size of the saved model file\n",
    "model_size = os.path.getsize(\"pruned_model.pth\") / (1024 * 1024)  # Size in MB\n",
    "print(f\"Pruned model size: {model_size:.2f} MB\")"
   ],
   "metadata": {
    "collapsed": false,
    "ExecuteTime": {
     "end_time": "2024-03-31T01:08:32.239462Z",
     "start_time": "2024-03-31T01:08:32.131606Z"
    }
   },
   "id": "7099180f1ffa376",
   "execution_count": 12
  }
 ],
 "metadata": {
  "kernelspec": {
   "display_name": "Python 3",
   "language": "python",
   "name": "python3"
  },
  "language_info": {
   "codemirror_mode": {
    "name": "ipython",
    "version": 2
   },
   "file_extension": ".py",
   "mimetype": "text/x-python",
   "name": "python",
   "nbconvert_exporter": "python",
   "pygments_lexer": "ipython2",
   "version": "2.7.6"
  }
 },
 "nbformat": 4,
 "nbformat_minor": 5
}
