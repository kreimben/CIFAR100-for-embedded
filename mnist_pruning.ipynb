{
 "cells": [
  {
   "cell_type": "code",
   "outputs": [
    {
     "name": "stderr",
     "output_type": "stream",
     "text": [
      "Seed set to 42\n"
     ]
    }
   ],
   "source": [
    "import lightning as L\n",
    "import pandas as pd\n",
    "import torch\n",
    "from lightning import seed_everything\n",
    "from lightning.pytorch.callbacks import ModelPruning\n",
    "from lightning.pytorch.tuner import Tuner\n",
    "from matplotlib import pyplot as plt\n",
    "\n",
    "from src.module import ResNet, ResidualBlock\n",
    "from src.utils import calculate_sparsity\n",
    "\n",
    "seed_everything(42, workers=True)\n",
    "\n",
    "%matplotlib inline"
   ],
   "metadata": {
    "collapsed": false,
    "ExecuteTime": {
     "end_time": "2024-03-29T03:21:29.888475Z",
     "start_time": "2024-03-29T03:21:26.526606Z"
    }
   },
   "id": "417984b8ef4a02cd",
   "execution_count": 1
  },
  {
   "cell_type": "markdown",
   "source": [
    "### Training with LearningRateFinder."
   ],
   "metadata": {
    "collapsed": false
   },
   "id": "246f5997ffea8d3b"
  },
  {
   "cell_type": "code",
   "outputs": [],
   "source": [
    "device = torch.device('cuda' if torch.cuda.is_available() else 'cpu')\n",
    "torch.set_default_device(device)"
   ],
   "metadata": {
    "collapsed": false,
    "ExecuteTime": {
     "end_time": "2024-03-29T03:21:29.920986Z",
     "start_time": "2024-03-29T03:21:29.889475Z"
    }
   },
   "id": "2f125de578984f9f",
   "execution_count": 2
  },
  {
   "cell_type": "code",
   "outputs": [
    {
     "data": {
      "text/plain": "ResNet(\n  (loss): CrossEntropyLoss()\n  (accuracy): MulticlassAccuracy()\n  (conv1): Conv2d(1, 64, kernel_size=(7, 7), stride=(2, 2), padding=(3, 3), bias=False)\n  (bn1): BatchNorm2d(64, eps=1e-05, momentum=0.1, affine=True, track_running_stats=True)\n  (relu): ReLU(inplace=True)\n  (maxpool): MaxPool2d(kernel_size=3, stride=2, padding=1, dilation=1, ceil_mode=False)\n  (layer1): Sequential(\n    (0): ResidualBlock(\n      (conv1): Conv2d(64, 64, kernel_size=(3, 3), stride=(1, 1), padding=(1, 1), bias=False)\n      (bn1): BatchNorm2d(64, eps=1e-05, momentum=0.1, affine=True, track_running_stats=True)\n      (relu): ReLU(inplace=True)\n      (conv2): Conv2d(64, 64, kernel_size=(3, 3), stride=(1, 1), padding=(1, 1), bias=False)\n      (bn2): BatchNorm2d(64, eps=1e-05, momentum=0.1, affine=True, track_running_stats=True)\n    )\n    (1): ResidualBlock(\n      (conv1): Conv2d(64, 64, kernel_size=(3, 3), stride=(1, 1), padding=(1, 1), bias=False)\n      (bn1): BatchNorm2d(64, eps=1e-05, momentum=0.1, affine=True, track_running_stats=True)\n      (relu): ReLU(inplace=True)\n      (conv2): Conv2d(64, 64, kernel_size=(3, 3), stride=(1, 1), padding=(1, 1), bias=False)\n      (bn2): BatchNorm2d(64, eps=1e-05, momentum=0.1, affine=True, track_running_stats=True)\n    )\n    (2): ResidualBlock(\n      (conv1): Conv2d(64, 64, kernel_size=(3, 3), stride=(1, 1), padding=(1, 1), bias=False)\n      (bn1): BatchNorm2d(64, eps=1e-05, momentum=0.1, affine=True, track_running_stats=True)\n      (relu): ReLU(inplace=True)\n      (conv2): Conv2d(64, 64, kernel_size=(3, 3), stride=(1, 1), padding=(1, 1), bias=False)\n      (bn2): BatchNorm2d(64, eps=1e-05, momentum=0.1, affine=True, track_running_stats=True)\n    )\n  )\n  (layer2): Sequential(\n    (0): ResidualBlock(\n      (conv1): Conv2d(64, 128, kernel_size=(3, 3), stride=(2, 2), padding=(1, 1), bias=False)\n      (bn1): BatchNorm2d(128, eps=1e-05, momentum=0.1, affine=True, track_running_stats=True)\n      (relu): ReLU(inplace=True)\n      (conv2): Conv2d(128, 128, kernel_size=(3, 3), stride=(1, 1), padding=(1, 1), bias=False)\n      (bn2): BatchNorm2d(128, eps=1e-05, momentum=0.1, affine=True, track_running_stats=True)\n      (downsample): Sequential(\n        (0): Conv2d(64, 128, kernel_size=(1, 1), stride=(2, 2), bias=False)\n        (1): BatchNorm2d(128, eps=1e-05, momentum=0.1, affine=True, track_running_stats=True)\n      )\n    )\n    (1): ResidualBlock(\n      (conv1): Conv2d(128, 128, kernel_size=(3, 3), stride=(1, 1), padding=(1, 1), bias=False)\n      (bn1): BatchNorm2d(128, eps=1e-05, momentum=0.1, affine=True, track_running_stats=True)\n      (relu): ReLU(inplace=True)\n      (conv2): Conv2d(128, 128, kernel_size=(3, 3), stride=(1, 1), padding=(1, 1), bias=False)\n      (bn2): BatchNorm2d(128, eps=1e-05, momentum=0.1, affine=True, track_running_stats=True)\n    )\n    (2): ResidualBlock(\n      (conv1): Conv2d(128, 128, kernel_size=(3, 3), stride=(1, 1), padding=(1, 1), bias=False)\n      (bn1): BatchNorm2d(128, eps=1e-05, momentum=0.1, affine=True, track_running_stats=True)\n      (relu): ReLU(inplace=True)\n      (conv2): Conv2d(128, 128, kernel_size=(3, 3), stride=(1, 1), padding=(1, 1), bias=False)\n      (bn2): BatchNorm2d(128, eps=1e-05, momentum=0.1, affine=True, track_running_stats=True)\n    )\n    (3): ResidualBlock(\n      (conv1): Conv2d(128, 128, kernel_size=(3, 3), stride=(1, 1), padding=(1, 1), bias=False)\n      (bn1): BatchNorm2d(128, eps=1e-05, momentum=0.1, affine=True, track_running_stats=True)\n      (relu): ReLU(inplace=True)\n      (conv2): Conv2d(128, 128, kernel_size=(3, 3), stride=(1, 1), padding=(1, 1), bias=False)\n      (bn2): BatchNorm2d(128, eps=1e-05, momentum=0.1, affine=True, track_running_stats=True)\n    )\n  )\n  (layer3): Sequential(\n    (0): ResidualBlock(\n      (conv1): Conv2d(128, 256, kernel_size=(3, 3), stride=(2, 2), padding=(1, 1), bias=False)\n      (bn1): BatchNorm2d(256, eps=1e-05, momentum=0.1, affine=True, track_running_stats=True)\n      (relu): ReLU(inplace=True)\n      (conv2): Conv2d(256, 256, kernel_size=(3, 3), stride=(1, 1), padding=(1, 1), bias=False)\n      (bn2): BatchNorm2d(256, eps=1e-05, momentum=0.1, affine=True, track_running_stats=True)\n      (downsample): Sequential(\n        (0): Conv2d(128, 256, kernel_size=(1, 1), stride=(2, 2), bias=False)\n        (1): BatchNorm2d(256, eps=1e-05, momentum=0.1, affine=True, track_running_stats=True)\n      )\n    )\n    (1): ResidualBlock(\n      (conv1): Conv2d(256, 256, kernel_size=(3, 3), stride=(1, 1), padding=(1, 1), bias=False)\n      (bn1): BatchNorm2d(256, eps=1e-05, momentum=0.1, affine=True, track_running_stats=True)\n      (relu): ReLU(inplace=True)\n      (conv2): Conv2d(256, 256, kernel_size=(3, 3), stride=(1, 1), padding=(1, 1), bias=False)\n      (bn2): BatchNorm2d(256, eps=1e-05, momentum=0.1, affine=True, track_running_stats=True)\n    )\n    (2): ResidualBlock(\n      (conv1): Conv2d(256, 256, kernel_size=(3, 3), stride=(1, 1), padding=(1, 1), bias=False)\n      (bn1): BatchNorm2d(256, eps=1e-05, momentum=0.1, affine=True, track_running_stats=True)\n      (relu): ReLU(inplace=True)\n      (conv2): Conv2d(256, 256, kernel_size=(3, 3), stride=(1, 1), padding=(1, 1), bias=False)\n      (bn2): BatchNorm2d(256, eps=1e-05, momentum=0.1, affine=True, track_running_stats=True)\n    )\n    (3): ResidualBlock(\n      (conv1): Conv2d(256, 256, kernel_size=(3, 3), stride=(1, 1), padding=(1, 1), bias=False)\n      (bn1): BatchNorm2d(256, eps=1e-05, momentum=0.1, affine=True, track_running_stats=True)\n      (relu): ReLU(inplace=True)\n      (conv2): Conv2d(256, 256, kernel_size=(3, 3), stride=(1, 1), padding=(1, 1), bias=False)\n      (bn2): BatchNorm2d(256, eps=1e-05, momentum=0.1, affine=True, track_running_stats=True)\n    )\n    (4): ResidualBlock(\n      (conv1): Conv2d(256, 256, kernel_size=(3, 3), stride=(1, 1), padding=(1, 1), bias=False)\n      (bn1): BatchNorm2d(256, eps=1e-05, momentum=0.1, affine=True, track_running_stats=True)\n      (relu): ReLU(inplace=True)\n      (conv2): Conv2d(256, 256, kernel_size=(3, 3), stride=(1, 1), padding=(1, 1), bias=False)\n      (bn2): BatchNorm2d(256, eps=1e-05, momentum=0.1, affine=True, track_running_stats=True)\n    )\n    (5): ResidualBlock(\n      (conv1): Conv2d(256, 256, kernel_size=(3, 3), stride=(1, 1), padding=(1, 1), bias=False)\n      (bn1): BatchNorm2d(256, eps=1e-05, momentum=0.1, affine=True, track_running_stats=True)\n      (relu): ReLU(inplace=True)\n      (conv2): Conv2d(256, 256, kernel_size=(3, 3), stride=(1, 1), padding=(1, 1), bias=False)\n      (bn2): BatchNorm2d(256, eps=1e-05, momentum=0.1, affine=True, track_running_stats=True)\n    )\n  )\n  (layer4): Sequential(\n    (0): ResidualBlock(\n      (conv1): Conv2d(256, 512, kernel_size=(3, 3), stride=(2, 2), padding=(1, 1), bias=False)\n      (bn1): BatchNorm2d(512, eps=1e-05, momentum=0.1, affine=True, track_running_stats=True)\n      (relu): ReLU(inplace=True)\n      (conv2): Conv2d(512, 512, kernel_size=(3, 3), stride=(1, 1), padding=(1, 1), bias=False)\n      (bn2): BatchNorm2d(512, eps=1e-05, momentum=0.1, affine=True, track_running_stats=True)\n      (downsample): Sequential(\n        (0): Conv2d(256, 512, kernel_size=(1, 1), stride=(2, 2), bias=False)\n        (1): BatchNorm2d(512, eps=1e-05, momentum=0.1, affine=True, track_running_stats=True)\n      )\n    )\n    (1): ResidualBlock(\n      (conv1): Conv2d(512, 512, kernel_size=(3, 3), stride=(1, 1), padding=(1, 1), bias=False)\n      (bn1): BatchNorm2d(512, eps=1e-05, momentum=0.1, affine=True, track_running_stats=True)\n      (relu): ReLU(inplace=True)\n      (conv2): Conv2d(512, 512, kernel_size=(3, 3), stride=(1, 1), padding=(1, 1), bias=False)\n      (bn2): BatchNorm2d(512, eps=1e-05, momentum=0.1, affine=True, track_running_stats=True)\n    )\n    (2): ResidualBlock(\n      (conv1): Conv2d(512, 512, kernel_size=(3, 3), stride=(1, 1), padding=(1, 1), bias=False)\n      (bn1): BatchNorm2d(512, eps=1e-05, momentum=0.1, affine=True, track_running_stats=True)\n      (relu): ReLU(inplace=True)\n      (conv2): Conv2d(512, 512, kernel_size=(3, 3), stride=(1, 1), padding=(1, 1), bias=False)\n      (bn2): BatchNorm2d(512, eps=1e-05, momentum=0.1, affine=True, track_running_stats=True)\n    )\n  )\n  (avgpool): AdaptiveAvgPool2d(output_size=(1, 1))\n  (fc): Linear(in_features=512, out_features=10, bias=True)\n)"
     },
     "execution_count": 3,
     "metadata": {},
     "output_type": "execute_result"
    }
   ],
   "source": [
    "model = ResNet(block=ResidualBlock, layers=[3, 4, 6, 3], device=device.type, prune=True)\n",
    "model.to(device)\n",
    "model"
   ],
   "metadata": {
    "collapsed": false,
    "ExecuteTime": {
     "end_time": "2024-03-29T03:21:30.062523Z",
     "start_time": "2024-03-29T03:21:29.921986Z"
    }
   },
   "id": "9c994ebaa1866aad",
   "execution_count": 3
  },
  {
   "cell_type": "code",
   "outputs": [
    {
     "name": "stderr",
     "output_type": "stream",
     "text": [
      "GPU available: True (cuda), used: True\n",
      "TPU available: False, using: 0 TPU cores\n",
      "IPU available: False, using: 0 IPUs\n",
      "HPU available: False, using: 0 HPUs\n",
      "C:\\Users\\aksid\\PycharmProjects\\MNISTClassifier\\venv\\lib\\site-packages\\lightning\\pytorch\\trainer\\connectors\\logger_connector\\logger_connector.py:75: Starting from v1.9.0, `tensorboardX` has been removed as a dependency of the `lightning.pytorch` package, due to potential conflicts with other packages in the ML ecosystem. For this reason, `logger=True` will use `CSVLogger` as the default logger, unless the `tensorboard` or `tensorboardX` packages are found. Please `pip install lightning[extra]` or one of them to enable TensorBoard support by default\n",
      "You are using a CUDA device ('NVIDIA GeForce RTX 4080') that has Tensor Cores. To properly utilize them, you should set `torch.set_float32_matmul_precision('medium' | 'high')` which will trade-off precision for performance. For more details, read https://pytorch.org/docs/stable/generated/torch.set_float32_matmul_precision.html#torch.set_float32_matmul_precision\n",
      "C:\\Users\\aksid\\PycharmProjects\\MNISTClassifier\\venv\\lib\\site-packages\\lightning\\pytorch\\callbacks\\model_checkpoint.py:653: Checkpoint directory C:\\Users\\aksid\\PycharmProjects\\MNISTClassifier exists and is not empty.\n",
      "LOCAL_RANK: 0 - CUDA_VISIBLE_DEVICES: [0]\n",
      "C:\\Users\\aksid\\PycharmProjects\\MNISTClassifier\\venv\\lib\\site-packages\\lightning\\pytorch\\loops\\fit_loop.py:298: The number of training batches (59) is smaller than the logging interval Trainer(log_every_n_steps=1000). Set a lower value for log_every_n_steps if you want to see logs for the training epoch.\n"
     ]
    },
    {
     "data": {
      "text/plain": "Finding best initial lr:   0%|          | 0/100 [00:00<?, ?it/s]",
      "application/vnd.jupyter.widget-view+json": {
       "version_major": 2,
       "version_minor": 0,
       "model_id": "b1ab46c867cf40238161431cdf1d3084"
      }
     },
     "metadata": {},
     "output_type": "display_data"
    },
    {
     "name": "stderr",
     "output_type": "stream",
     "text": [
      "`Trainer.fit` stopped: `max_steps=100` reached.\n",
      "Learning rate set to 0.0007585775750291836\n",
      "Restoring states from the checkpoint path at C:\\Users\\aksid\\PycharmProjects\\MNISTClassifier\\.lr_find_c837792e-2341-4163-94b5-42dad53b38a0.ckpt\n",
      "Restored all states from the checkpoint at C:\\Users\\aksid\\PycharmProjects\\MNISTClassifier\\.lr_find_c837792e-2341-4163-94b5-42dad53b38a0.ckpt\n",
      "LOCAL_RANK: 0 - CUDA_VISIBLE_DEVICES: [0]\n",
      "\n",
      "   | Name     | Type               | Params\n",
      "-------------------------------------------------\n",
      "0  | loss     | CrossEntropyLoss   | 0     \n",
      "1  | accuracy | MulticlassAccuracy | 0     \n",
      "2  | conv1    | Conv2d             | 3.1 K \n",
      "3  | bn1      | BatchNorm2d        | 128   \n",
      "4  | relu     | ReLU               | 0     \n",
      "5  | maxpool  | MaxPool2d          | 0     \n",
      "6  | layer1   | Sequential         | 221 K \n",
      "7  | layer2   | Sequential         | 1.1 M \n",
      "8  | layer3   | Sequential         | 6.8 M \n",
      "9  | layer4   | Sequential         | 13.1 M\n",
      "10 | avgpool  | AdaptiveAvgPool2d  | 0     \n",
      "11 | fc       | Linear             | 5.1 K \n",
      "-------------------------------------------------\n",
      "21.3 M    Trainable params\n",
      "0         Non-trainable params\n",
      "21.3 M    Total params\n",
      "85.134    Total estimated model params size (MB)\n"
     ]
    },
    {
     "data": {
      "text/plain": "Sanity Checking: |          | 0/? [00:00<?, ?it/s]",
      "application/vnd.jupyter.widget-view+json": {
       "version_major": 2,
       "version_minor": 0,
       "model_id": "ac10da256e104e9a9218f8238bccad58"
      }
     },
     "metadata": {},
     "output_type": "display_data"
    },
    {
     "data": {
      "text/plain": "Training: |          | 0/? [00:00<?, ?it/s]",
      "application/vnd.jupyter.widget-view+json": {
       "version_major": 2,
       "version_minor": 0,
       "model_id": "ca4cc25e413e480685dd2f0a241dc953"
      }
     },
     "metadata": {},
     "output_type": "display_data"
    },
    {
     "data": {
      "text/plain": "Validation: |          | 0/? [00:00<?, ?it/s]",
      "application/vnd.jupyter.widget-view+json": {
       "version_major": 2,
       "version_minor": 0,
       "model_id": "a1305a8013334d47909effb2a364d463"
      }
     },
     "metadata": {},
     "output_type": "display_data"
    },
    {
     "data": {
      "text/plain": "Validation: |          | 0/? [00:00<?, ?it/s]",
      "application/vnd.jupyter.widget-view+json": {
       "version_major": 2,
       "version_minor": 0,
       "model_id": "f259a14320cc4d0087be1fe5fd3b5611"
      }
     },
     "metadata": {},
     "output_type": "display_data"
    },
    {
     "data": {
      "text/plain": "Validation: |          | 0/? [00:00<?, ?it/s]",
      "application/vnd.jupyter.widget-view+json": {
       "version_major": 2,
       "version_minor": 0,
       "model_id": "0f8b5a45987f49b9afb31da49ed2cddb"
      }
     },
     "metadata": {},
     "output_type": "display_data"
    },
    {
     "data": {
      "text/plain": "Validation: |          | 0/? [00:00<?, ?it/s]",
      "application/vnd.jupyter.widget-view+json": {
       "version_major": 2,
       "version_minor": 0,
       "model_id": "58e02ed546ec42f299fe8489a99699d0"
      }
     },
     "metadata": {},
     "output_type": "display_data"
    },
    {
     "data": {
      "text/plain": "Validation: |          | 0/? [00:00<?, ?it/s]",
      "application/vnd.jupyter.widget-view+json": {
       "version_major": 2,
       "version_minor": 0,
       "model_id": "d741e7ca83684277ae13ab62d3dd9c97"
      }
     },
     "metadata": {},
     "output_type": "display_data"
    },
    {
     "data": {
      "text/plain": "Validation: |          | 0/? [00:00<?, ?it/s]",
      "application/vnd.jupyter.widget-view+json": {
       "version_major": 2,
       "version_minor": 0,
       "model_id": "98e6a845ca964ac6a529e1c1c2915a97"
      }
     },
     "metadata": {},
     "output_type": "display_data"
    },
    {
     "data": {
      "text/plain": "Validation: |          | 0/? [00:00<?, ?it/s]",
      "application/vnd.jupyter.widget-view+json": {
       "version_major": 2,
       "version_minor": 0,
       "model_id": "a7e21dfa50c94237baf79c3b5a2a4ecd"
      }
     },
     "metadata": {},
     "output_type": "display_data"
    },
    {
     "data": {
      "text/plain": "Validation: |          | 0/? [00:00<?, ?it/s]",
      "application/vnd.jupyter.widget-view+json": {
       "version_major": 2,
       "version_minor": 0,
       "model_id": "81dd82e42f42449e930aa3593e90f8c6"
      }
     },
     "metadata": {},
     "output_type": "display_data"
    },
    {
     "data": {
      "text/plain": "Validation: |          | 0/? [00:00<?, ?it/s]",
      "application/vnd.jupyter.widget-view+json": {
       "version_major": 2,
       "version_minor": 0,
       "model_id": "326b8fd011844c38a69b5625bd14db61"
      }
     },
     "metadata": {},
     "output_type": "display_data"
    },
    {
     "data": {
      "text/plain": "Validation: |          | 0/? [00:00<?, ?it/s]",
      "application/vnd.jupyter.widget-view+json": {
       "version_major": 2,
       "version_minor": 0,
       "model_id": "3bcaa43e822f4ee58f4380b8e653e1ad"
      }
     },
     "metadata": {},
     "output_type": "display_data"
    },
    {
     "data": {
      "text/plain": "Validation: |          | 0/? [00:00<?, ?it/s]",
      "application/vnd.jupyter.widget-view+json": {
       "version_major": 2,
       "version_minor": 0,
       "model_id": "d8141a0ee2e94767a4ccd616b3f14f4b"
      }
     },
     "metadata": {},
     "output_type": "display_data"
    },
    {
     "data": {
      "text/plain": "Validation: |          | 0/? [00:00<?, ?it/s]",
      "application/vnd.jupyter.widget-view+json": {
       "version_major": 2,
       "version_minor": 0,
       "model_id": "21bef710576141b4b330b0f93a016238"
      }
     },
     "metadata": {},
     "output_type": "display_data"
    },
    {
     "data": {
      "text/plain": "Validation: |          | 0/? [00:00<?, ?it/s]",
      "application/vnd.jupyter.widget-view+json": {
       "version_major": 2,
       "version_minor": 0,
       "model_id": "d6fb0b5469c241629c4be5da673fa00a"
      }
     },
     "metadata": {},
     "output_type": "display_data"
    },
    {
     "data": {
      "text/plain": "Validation: |          | 0/? [00:00<?, ?it/s]",
      "application/vnd.jupyter.widget-view+json": {
       "version_major": 2,
       "version_minor": 0,
       "model_id": "8c71b40e92794f1bae4bf9a4276424c0"
      }
     },
     "metadata": {},
     "output_type": "display_data"
    },
    {
     "data": {
      "text/plain": "Validation: |          | 0/? [00:00<?, ?it/s]",
      "application/vnd.jupyter.widget-view+json": {
       "version_major": 2,
       "version_minor": 0,
       "model_id": "dfe086bcbbf3453c931d081d19f88041"
      }
     },
     "metadata": {},
     "output_type": "display_data"
    },
    {
     "name": "stderr",
     "output_type": "stream",
     "text": [
      "`Trainer.fit` stopped: `max_epochs=15` reached.\n",
      "GPU available: True (cuda), used: True\n",
      "TPU available: False, using: 0 TPU cores\n",
      "IPU available: False, using: 0 IPUs\n",
      "HPU available: False, using: 0 HPUs\n",
      "LOCAL_RANK: 0 - CUDA_VISIBLE_DEVICES: [0]\n",
      "\n",
      "   | Name     | Type               | Params\n",
      "-------------------------------------------------\n",
      "0  | loss     | CrossEntropyLoss   | 0     \n",
      "1  | accuracy | MulticlassAccuracy | 0     \n",
      "2  | conv1    | Conv2d             | 3.1 K \n",
      "3  | bn1      | BatchNorm2d        | 128   \n",
      "4  | relu     | ReLU               | 0     \n",
      "5  | maxpool  | MaxPool2d          | 0     \n",
      "6  | layer1   | Sequential         | 221 K \n",
      "7  | layer2   | Sequential         | 1.1 M \n",
      "8  | layer3   | Sequential         | 6.8 M \n",
      "9  | layer4   | Sequential         | 13.1 M\n",
      "10 | avgpool  | AdaptiveAvgPool2d  | 0     \n",
      "11 | fc       | Linear             | 5.1 K \n",
      "-------------------------------------------------\n",
      "21.3 M    Trainable params\n",
      "0         Non-trainable params\n",
      "21.3 M    Total params\n",
      "85.134    Total estimated model params size (MB)\n"
     ]
    },
    {
     "data": {
      "text/plain": "Sanity Checking: |          | 0/? [00:00<?, ?it/s]",
      "application/vnd.jupyter.widget-view+json": {
       "version_major": 2,
       "version_minor": 0,
       "model_id": "dd852569a928437f9a94c4d07cf7b312"
      }
     },
     "metadata": {},
     "output_type": "display_data"
    },
    {
     "data": {
      "text/plain": "Training: |          | 0/? [00:00<?, ?it/s]",
      "application/vnd.jupyter.widget-view+json": {
       "version_major": 2,
       "version_minor": 0,
       "model_id": "f7644dce34814580b03a6867a566d0b9"
      }
     },
     "metadata": {},
     "output_type": "display_data"
    },
    {
     "data": {
      "text/plain": "Validation: |          | 0/? [00:00<?, ?it/s]",
      "application/vnd.jupyter.widget-view+json": {
       "version_major": 2,
       "version_minor": 0,
       "model_id": "b40ef1746688414d9a3d1ffcc9869c46"
      }
     },
     "metadata": {},
     "output_type": "display_data"
    },
    {
     "name": "stderr",
     "output_type": "stream",
     "text": [
      "Applied `l1_unstructured`. Pruned: 0/21305684 (0.00%) -> 1064176/21305684 (4.99%)\n"
     ]
    },
    {
     "data": {
      "text/plain": "Validation: |          | 0/? [00:00<?, ?it/s]",
      "application/vnd.jupyter.widget-view+json": {
       "version_major": 2,
       "version_minor": 0,
       "model_id": "3283d621e77247f3821b00be5122b30c"
      }
     },
     "metadata": {},
     "output_type": "display_data"
    },
    {
     "name": "stderr",
     "output_type": "stream",
     "text": [
      "Applied `l1_unstructured`. Pruned: 1064176/21305684 (4.99%) -> 2075136/21305684 (9.74%)\n"
     ]
    },
    {
     "data": {
      "text/plain": "Validation: |          | 0/? [00:00<?, ?it/s]",
      "application/vnd.jupyter.widget-view+json": {
       "version_major": 2,
       "version_minor": 0,
       "model_id": "56111f4d028443acb97d181a07b59daa"
      }
     },
     "metadata": {},
     "output_type": "display_data"
    },
    {
     "name": "stderr",
     "output_type": "stream",
     "text": [
      "Applied `l1_unstructured`. Pruned: 2075136/21305684 (9.74%) -> 3035577/21305684 (14.25%)\n"
     ]
    },
    {
     "data": {
      "text/plain": "Validation: |          | 0/? [00:00<?, ?it/s]",
      "application/vnd.jupyter.widget-view+json": {
       "version_major": 2,
       "version_minor": 0,
       "model_id": "23d975264b334b55b8bf3295f0bb176e"
      }
     },
     "metadata": {},
     "output_type": "display_data"
    },
    {
     "name": "stderr",
     "output_type": "stream",
     "text": [
      "Applied `l1_unstructured`. Pruned: 3035577/21305684 (14.25%) -> 3947985/21305684 (18.53%)\n"
     ]
    },
    {
     "data": {
      "text/plain": "Validation: |          | 0/? [00:00<?, ?it/s]",
      "application/vnd.jupyter.widget-view+json": {
       "version_major": 2,
       "version_minor": 0,
       "model_id": "3e8e8eab234d4d8face5365213903b03"
      }
     },
     "metadata": {},
     "output_type": "display_data"
    },
    {
     "name": "stderr",
     "output_type": "stream",
     "text": [
      "Applied `l1_unstructured`. Pruned: 3947985/21305684 (18.53%) -> 4814755/21305684 (22.60%)\n"
     ]
    },
    {
     "data": {
      "text/plain": "Validation: |          | 0/? [00:00<?, ?it/s]",
      "application/vnd.jupyter.widget-view+json": {
       "version_major": 2,
       "version_minor": 0,
       "model_id": "44ef74ad930f47e5a6f2d8224dfcb6ab"
      }
     },
     "metadata": {},
     "output_type": "display_data"
    },
    {
     "name": "stderr",
     "output_type": "stream",
     "text": [
      "Applied `l1_unstructured`. Pruned: 4814755/21305684 (22.60%) -> 5638195/21305684 (26.46%)\n"
     ]
    },
    {
     "data": {
      "text/plain": "Validation: |          | 0/? [00:00<?, ?it/s]",
      "application/vnd.jupyter.widget-view+json": {
       "version_major": 2,
       "version_minor": 0,
       "model_id": "a17f4cc540694a6081fbed0dbb0c2422"
      }
     },
     "metadata": {},
     "output_type": "display_data"
    },
    {
     "name": "stderr",
     "output_type": "stream",
     "text": [
      "Applied `l1_unstructured`. Pruned: 5638195/21305684 (26.46%) -> 6420459/21305684 (30.13%)\n"
     ]
    },
    {
     "data": {
      "text/plain": "Validation: |          | 0/? [00:00<?, ?it/s]",
      "application/vnd.jupyter.widget-view+json": {
       "version_major": 2,
       "version_minor": 0,
       "model_id": "8afd0e39b5c74fbba1a0f5848b1395f0"
      }
     },
     "metadata": {},
     "output_type": "display_data"
    },
    {
     "name": "stderr",
     "output_type": "stream",
     "text": [
      "Applied `l1_unstructured`. Pruned: 6420459/21305684 (30.13%) -> 7163607/21305684 (33.62%)\n"
     ]
    },
    {
     "data": {
      "text/plain": "Validation: |          | 0/? [00:00<?, ?it/s]",
      "application/vnd.jupyter.widget-view+json": {
       "version_major": 2,
       "version_minor": 0,
       "model_id": "89817978525b49b7afbc75546887b6df"
      }
     },
     "metadata": {},
     "output_type": "display_data"
    },
    {
     "name": "stderr",
     "output_type": "stream",
     "text": [
      "Applied `l1_unstructured`. Pruned: 7163607/21305684 (33.62%) -> 7869583/21305684 (36.94%)\n"
     ]
    },
    {
     "data": {
      "text/plain": "Validation: |          | 0/? [00:00<?, ?it/s]",
      "application/vnd.jupyter.widget-view+json": {
       "version_major": 2,
       "version_minor": 0,
       "model_id": "5a038bd48ebe437badc2e47a2ece4b3d"
      }
     },
     "metadata": {},
     "output_type": "display_data"
    },
    {
     "name": "stderr",
     "output_type": "stream",
     "text": [
      "Applied `l1_unstructured`. Pruned: 7869583/21305684 (36.94%) -> 8540279/21305684 (40.08%)\n"
     ]
    },
    {
     "data": {
      "text/plain": "Validation: |          | 0/? [00:00<?, ?it/s]",
      "application/vnd.jupyter.widget-view+json": {
       "version_major": 2,
       "version_minor": 0,
       "model_id": "1c632c1ea71a4869a30a2f983c21d9a7"
      }
     },
     "metadata": {},
     "output_type": "display_data"
    },
    {
     "name": "stderr",
     "output_type": "stream",
     "text": [
      "Applied `l1_unstructured`. Pruned: 8540279/21305684 (40.08%) -> 9177444/21305684 (43.08%)\n"
     ]
    },
    {
     "data": {
      "text/plain": "Validation: |          | 0/? [00:00<?, ?it/s]",
      "application/vnd.jupyter.widget-view+json": {
       "version_major": 2,
       "version_minor": 0,
       "model_id": "d13b9305b92b47ad8041400993b118c4"
      }
     },
     "metadata": {},
     "output_type": "display_data"
    },
    {
     "name": "stderr",
     "output_type": "stream",
     "text": [
      "Applied `l1_unstructured`. Pruned: 9177444/21305684 (43.08%) -> 9782758/21305684 (45.92%)\n"
     ]
    },
    {
     "data": {
      "text/plain": "Validation: |          | 0/? [00:00<?, ?it/s]",
      "application/vnd.jupyter.widget-view+json": {
       "version_major": 2,
       "version_minor": 0,
       "model_id": "68644a550d0948afa93e13a550271932"
      }
     },
     "metadata": {},
     "output_type": "display_data"
    },
    {
     "name": "stderr",
     "output_type": "stream",
     "text": [
      "Applied `l1_unstructured`. Pruned: 9782758/21305684 (45.92%) -> 10357800/21305684 (48.62%)\n"
     ]
    },
    {
     "data": {
      "text/plain": "Validation: |          | 0/? [00:00<?, ?it/s]",
      "application/vnd.jupyter.widget-view+json": {
       "version_major": 2,
       "version_minor": 0,
       "model_id": "47686078d8944582800dcb57eb3f8a61"
      }
     },
     "metadata": {},
     "output_type": "display_data"
    },
    {
     "name": "stderr",
     "output_type": "stream",
     "text": [
      "Applied `l1_unstructured`. Pruned: 10357800/21305684 (48.62%) -> 10904092/21305684 (51.18%)\n"
     ]
    },
    {
     "data": {
      "text/plain": "Validation: |          | 0/? [00:00<?, ?it/s]",
      "application/vnd.jupyter.widget-view+json": {
       "version_major": 2,
       "version_minor": 0,
       "model_id": "adac26a615724aae80fd68a96e066915"
      }
     },
     "metadata": {},
     "output_type": "display_data"
    },
    {
     "name": "stderr",
     "output_type": "stream",
     "text": [
      "Applied `l1_unstructured`. Pruned: 10904092/21305684 (51.18%) -> 11423055/21305684 (53.62%)\n"
     ]
    },
    {
     "data": {
      "text/plain": "Validation: |          | 0/? [00:00<?, ?it/s]",
      "application/vnd.jupyter.widget-view+json": {
       "version_major": 2,
       "version_minor": 0,
       "model_id": "fb815cc0573b418c8ad05e51a778f611"
      }
     },
     "metadata": {},
     "output_type": "display_data"
    },
    {
     "name": "stderr",
     "output_type": "stream",
     "text": [
      "Applied `l1_unstructured`. Pruned: 11423055/21305684 (53.62%) -> 11916079/21305684 (55.93%)\n"
     ]
    },
    {
     "data": {
      "text/plain": "Validation: |          | 0/? [00:00<?, ?it/s]",
      "application/vnd.jupyter.widget-view+json": {
       "version_major": 2,
       "version_minor": 0,
       "model_id": "a01487352cfa479fb48e1e38daded151"
      }
     },
     "metadata": {},
     "output_type": "display_data"
    },
    {
     "name": "stderr",
     "output_type": "stream",
     "text": [
      "Applied `l1_unstructured`. Pruned: 11916079/21305684 (55.93%) -> 12384457/21305684 (58.13%)\n"
     ]
    },
    {
     "data": {
      "text/plain": "Validation: |          | 0/? [00:00<?, ?it/s]",
      "application/vnd.jupyter.widget-view+json": {
       "version_major": 2,
       "version_minor": 0,
       "model_id": "99638d7353134e43859f6e3be4a08948"
      }
     },
     "metadata": {},
     "output_type": "display_data"
    },
    {
     "name": "stderr",
     "output_type": "stream",
     "text": [
      "Applied `l1_unstructured`. Pruned: 12384457/21305684 (58.13%) -> 12829414/21305684 (60.22%)\n"
     ]
    },
    {
     "data": {
      "text/plain": "Validation: |          | 0/? [00:00<?, ?it/s]",
      "application/vnd.jupyter.widget-view+json": {
       "version_major": 2,
       "version_minor": 0,
       "model_id": "710f9c1b646a4dcc9a0c74bbc8ebacb8"
      }
     },
     "metadata": {},
     "output_type": "display_data"
    },
    {
     "name": "stderr",
     "output_type": "stream",
     "text": [
      "Applied `l1_unstructured`. Pruned: 12829414/21305684 (60.22%) -> 13252110/21305684 (62.20%)\n"
     ]
    },
    {
     "data": {
      "text/plain": "Validation: |          | 0/? [00:00<?, ?it/s]",
      "application/vnd.jupyter.widget-view+json": {
       "version_major": 2,
       "version_minor": 0,
       "model_id": "918c4d336ae14be5900adbeffacf8691"
      }
     },
     "metadata": {},
     "output_type": "display_data"
    },
    {
     "name": "stderr",
     "output_type": "stream",
     "text": [
      "Applied `l1_unstructured`. Pruned: 13252110/21305684 (62.20%) -> 13653683/21305684 (64.08%)\n"
     ]
    },
    {
     "data": {
      "text/plain": "Validation: |          | 0/? [00:00<?, ?it/s]",
      "application/vnd.jupyter.widget-view+json": {
       "version_major": 2,
       "version_minor": 0,
       "model_id": "30aa1d9491df4068bc8f763c5fea58ad"
      }
     },
     "metadata": {},
     "output_type": "display_data"
    },
    {
     "name": "stderr",
     "output_type": "stream",
     "text": [
      "Applied `l1_unstructured`. Pruned: 13653683/21305684 (64.08%) -> 14035176/21305684 (65.88%)\n"
     ]
    },
    {
     "data": {
      "text/plain": "Validation: |          | 0/? [00:00<?, ?it/s]",
      "application/vnd.jupyter.widget-view+json": {
       "version_major": 2,
       "version_minor": 0,
       "model_id": "18491902f4954555a4176a337b422f62"
      }
     },
     "metadata": {},
     "output_type": "display_data"
    },
    {
     "name": "stderr",
     "output_type": "stream",
     "text": [
      "Applied `l1_unstructured`. Pruned: 14035176/21305684 (65.88%) -> 14397589/21305684 (67.58%)\n"
     ]
    },
    {
     "data": {
      "text/plain": "Validation: |          | 0/? [00:00<?, ?it/s]",
      "application/vnd.jupyter.widget-view+json": {
       "version_major": 2,
       "version_minor": 0,
       "model_id": "65565c64d48e4858a35d65fbfa065b32"
      }
     },
     "metadata": {},
     "output_type": "display_data"
    },
    {
     "name": "stderr",
     "output_type": "stream",
     "text": [
      "Applied `l1_unstructured`. Pruned: 14397589/21305684 (67.58%) -> 14741870/21305684 (69.19%)\n"
     ]
    },
    {
     "data": {
      "text/plain": "Validation: |          | 0/? [00:00<?, ?it/s]",
      "application/vnd.jupyter.widget-view+json": {
       "version_major": 2,
       "version_minor": 0,
       "model_id": "eb7d5f477cc947aaae1ef609a6812dae"
      }
     },
     "metadata": {},
     "output_type": "display_data"
    },
    {
     "name": "stderr",
     "output_type": "stream",
     "text": [
      "Applied `l1_unstructured`. Pruned: 14741870/21305684 (69.19%) -> 15068948/21305684 (70.73%)\n"
     ]
    },
    {
     "data": {
      "text/plain": "Validation: |          | 0/? [00:00<?, ?it/s]",
      "application/vnd.jupyter.widget-view+json": {
       "version_major": 2,
       "version_minor": 0,
       "model_id": "d2e0badd45ab47fd83b80cdf135c0544"
      }
     },
     "metadata": {},
     "output_type": "display_data"
    },
    {
     "name": "stderr",
     "output_type": "stream",
     "text": [
      "Applied `l1_unstructured`. Pruned: 15068948/21305684 (70.73%) -> 15379677/21305684 (72.19%)\n"
     ]
    },
    {
     "data": {
      "text/plain": "Validation: |          | 0/? [00:00<?, ?it/s]",
      "application/vnd.jupyter.widget-view+json": {
       "version_major": 2,
       "version_minor": 0,
       "model_id": "8fe74ae1bbd94f21a78d2b58c912a1b8"
      }
     },
     "metadata": {},
     "output_type": "display_data"
    },
    {
     "name": "stderr",
     "output_type": "stream",
     "text": [
      "Applied `l1_unstructured`. Pruned: 15379677/21305684 (72.19%) -> 15674876/21305684 (73.57%)\n"
     ]
    },
    {
     "data": {
      "text/plain": "Validation: |          | 0/? [00:00<?, ?it/s]",
      "application/vnd.jupyter.widget-view+json": {
       "version_major": 2,
       "version_minor": 0,
       "model_id": "4899c66715164ddfb272db1c3bece02f"
      }
     },
     "metadata": {},
     "output_type": "display_data"
    },
    {
     "name": "stderr",
     "output_type": "stream",
     "text": [
      "Applied `l1_unstructured`. Pruned: 15674876/21305684 (73.57%) -> 15955316/21305684 (74.89%)\n"
     ]
    },
    {
     "data": {
      "text/plain": "Validation: |          | 0/? [00:00<?, ?it/s]",
      "application/vnd.jupyter.widget-view+json": {
       "version_major": 2,
       "version_minor": 0,
       "model_id": "5c9c013c155e4850ad760b939ab995cf"
      }
     },
     "metadata": {},
     "output_type": "display_data"
    },
    {
     "name": "stderr",
     "output_type": "stream",
     "text": [
      "Applied `l1_unstructured`. Pruned: 15955316/21305684 (74.89%) -> 16221726/21305684 (76.14%)\n"
     ]
    },
    {
     "data": {
      "text/plain": "Validation: |          | 0/? [00:00<?, ?it/s]",
      "application/vnd.jupyter.widget-view+json": {
       "version_major": 2,
       "version_minor": 0,
       "model_id": "611775c9c0c6411e9235c92df8e8aad3"
      }
     },
     "metadata": {},
     "output_type": "display_data"
    },
    {
     "name": "stderr",
     "output_type": "stream",
     "text": [
      "Applied `l1_unstructured`. Pruned: 16221726/21305684 (76.14%) -> 16474822/21305684 (77.33%)\n"
     ]
    },
    {
     "data": {
      "text/plain": "Validation: |          | 0/? [00:00<?, ?it/s]",
      "application/vnd.jupyter.widget-view+json": {
       "version_major": 2,
       "version_minor": 0,
       "model_id": "881baef5359c43c3b600dac2abd457dd"
      }
     },
     "metadata": {},
     "output_type": "display_data"
    },
    {
     "name": "stderr",
     "output_type": "stream",
     "text": [
      "Applied `l1_unstructured`. Pruned: 16474822/21305684 (77.33%) -> 16715255/21305684 (78.45%)\n"
     ]
    },
    {
     "data": {
      "text/plain": "Validation: |          | 0/? [00:00<?, ?it/s]",
      "application/vnd.jupyter.widget-view+json": {
       "version_major": 2,
       "version_minor": 0,
       "model_id": "7e169bd41a4f4e469ab7c852f2507326"
      }
     },
     "metadata": {},
     "output_type": "display_data"
    },
    {
     "name": "stderr",
     "output_type": "stream",
     "text": [
      "Applied `l1_unstructured`. Pruned: 16715255/21305684 (78.45%) -> 16943681/21305684 (79.53%)\n"
     ]
    },
    {
     "data": {
      "text/plain": "Validation: |          | 0/? [00:00<?, ?it/s]",
      "application/vnd.jupyter.widget-view+json": {
       "version_major": 2,
       "version_minor": 0,
       "model_id": "34f3d54f5831411a90d9497815c46b90"
      }
     },
     "metadata": {},
     "output_type": "display_data"
    },
    {
     "name": "stderr",
     "output_type": "stream",
     "text": [
      "Applied `l1_unstructured`. Pruned: 16943681/21305684 (79.53%) -> 17160675/21305684 (80.55%)\n"
     ]
    },
    {
     "data": {
      "text/plain": "Validation: |          | 0/? [00:00<?, ?it/s]",
      "application/vnd.jupyter.widget-view+json": {
       "version_major": 2,
       "version_minor": 0,
       "model_id": "1ef4b4bdee12453697f8a43fe43a1551"
      }
     },
     "metadata": {},
     "output_type": "display_data"
    },
    {
     "name": "stderr",
     "output_type": "stream",
     "text": [
      "Applied `l1_unstructured`. Pruned: 17160675/21305684 (80.55%) -> 17366807/21305684 (81.51%)\n"
     ]
    },
    {
     "data": {
      "text/plain": "Validation: |          | 0/? [00:00<?, ?it/s]",
      "application/vnd.jupyter.widget-view+json": {
       "version_major": 2,
       "version_minor": 0,
       "model_id": "62d2df5100214544ac2c92ee441a2f63"
      }
     },
     "metadata": {},
     "output_type": "display_data"
    },
    {
     "name": "stderr",
     "output_type": "stream",
     "text": [
      "Applied `l1_unstructured`. Pruned: 17366807/21305684 (81.51%) -> 17562641/21305684 (82.43%)\n"
     ]
    },
    {
     "data": {
      "text/plain": "Validation: |          | 0/? [00:00<?, ?it/s]",
      "application/vnd.jupyter.widget-view+json": {
       "version_major": 2,
       "version_minor": 0,
       "model_id": "df1d2b59ba8e41a5a10225c1fa9f7e99"
      }
     },
     "metadata": {},
     "output_type": "display_data"
    },
    {
     "name": "stderr",
     "output_type": "stream",
     "text": [
      "Applied `l1_unstructured`. Pruned: 17562641/21305684 (82.43%) -> 17748663/21305684 (83.30%)\n"
     ]
    },
    {
     "data": {
      "text/plain": "Validation: |          | 0/? [00:00<?, ?it/s]",
      "application/vnd.jupyter.widget-view+json": {
       "version_major": 2,
       "version_minor": 0,
       "model_id": "ac44c3db35364969b383956370166dbb"
      }
     },
     "metadata": {},
     "output_type": "display_data"
    },
    {
     "name": "stderr",
     "output_type": "stream",
     "text": [
      "Applied `l1_unstructured`. Pruned: 17748663/21305684 (83.30%) -> 17925384/21305684 (84.13%)\n"
     ]
    },
    {
     "data": {
      "text/plain": "Validation: |          | 0/? [00:00<?, ?it/s]",
      "application/vnd.jupyter.widget-view+json": {
       "version_major": 2,
       "version_minor": 0,
       "model_id": "bcfb33e6045a438395d8beff62523899"
      }
     },
     "metadata": {},
     "output_type": "display_data"
    },
    {
     "name": "stderr",
     "output_type": "stream",
     "text": [
      "Applied `l1_unstructured`. Pruned: 17925384/21305684 (84.13%) -> 18093277/21305684 (84.92%)\n"
     ]
    },
    {
     "data": {
      "text/plain": "Validation: |          | 0/? [00:00<?, ?it/s]",
      "application/vnd.jupyter.widget-view+json": {
       "version_major": 2,
       "version_minor": 0,
       "model_id": "253351bafa854d79919dfc5c06d545dd"
      }
     },
     "metadata": {},
     "output_type": "display_data"
    },
    {
     "name": "stderr",
     "output_type": "stream",
     "text": [
      "Applied `l1_unstructured`. Pruned: 18093277/21305684 (84.92%) -> 18252779/21305684 (85.67%)\n"
     ]
    },
    {
     "data": {
      "text/plain": "Validation: |          | 0/? [00:00<?, ?it/s]",
      "application/vnd.jupyter.widget-view+json": {
       "version_major": 2,
       "version_minor": 0,
       "model_id": "7579505c80334d9aa83376964ccaac62"
      }
     },
     "metadata": {},
     "output_type": "display_data"
    },
    {
     "name": "stderr",
     "output_type": "stream",
     "text": [
      "Applied `l1_unstructured`. Pruned: 18252779/21305684 (85.67%) -> 18404318/21305684 (86.38%)\n"
     ]
    },
    {
     "data": {
      "text/plain": "Validation: |          | 0/? [00:00<?, ?it/s]",
      "application/vnd.jupyter.widget-view+json": {
       "version_major": 2,
       "version_minor": 0,
       "model_id": "99d7865865b34e0a9c96eb4d661ddfd3"
      }
     },
     "metadata": {},
     "output_type": "display_data"
    },
    {
     "name": "stderr",
     "output_type": "stream",
     "text": [
      "Applied `l1_unstructured`. Pruned: 18404318/21305684 (86.38%) -> 18548265/21305684 (87.06%)\n"
     ]
    },
    {
     "data": {
      "text/plain": "Validation: |          | 0/? [00:00<?, ?it/s]",
      "application/vnd.jupyter.widget-view+json": {
       "version_major": 2,
       "version_minor": 0,
       "model_id": "5016b1822df344a58f5ec0e3156437df"
      }
     },
     "metadata": {},
     "output_type": "display_data"
    },
    {
     "name": "stderr",
     "output_type": "stream",
     "text": [
      "Applied `l1_unstructured`. Pruned: 18548265/21305684 (87.06%) -> 18685033/21305684 (87.70%)\n"
     ]
    },
    {
     "data": {
      "text/plain": "Validation: |          | 0/? [00:00<?, ?it/s]",
      "application/vnd.jupyter.widget-view+json": {
       "version_major": 2,
       "version_minor": 0,
       "model_id": "dba88f3e50e244f1949e95333020aa18"
      }
     },
     "metadata": {},
     "output_type": "display_data"
    },
    {
     "name": "stderr",
     "output_type": "stream",
     "text": [
      "Applied `l1_unstructured`. Pruned: 18685033/21305684 (87.70%) -> 18814956/21305684 (88.31%)\n"
     ]
    },
    {
     "data": {
      "text/plain": "Validation: |          | 0/? [00:00<?, ?it/s]",
      "application/vnd.jupyter.widget-view+json": {
       "version_major": 2,
       "version_minor": 0,
       "model_id": "1b437bce6b14492bb2f4aaad44915e6d"
      }
     },
     "metadata": {},
     "output_type": "display_data"
    },
    {
     "name": "stderr",
     "output_type": "stream",
     "text": [
      "Applied `l1_unstructured`. Pruned: 18814956/21305684 (88.31%) -> 18938366/21305684 (88.89%)\n"
     ]
    },
    {
     "data": {
      "text/plain": "Validation: |          | 0/? [00:00<?, ?it/s]",
      "application/vnd.jupyter.widget-view+json": {
       "version_major": 2,
       "version_minor": 0,
       "model_id": "88823bca5c204e59ba7990d57b62f057"
      }
     },
     "metadata": {},
     "output_type": "display_data"
    },
    {
     "name": "stderr",
     "output_type": "stream",
     "text": [
      "Applied `l1_unstructured`. Pruned: 18938366/21305684 (88.89%) -> 19055616/21305684 (89.44%)\n"
     ]
    },
    {
     "data": {
      "text/plain": "Validation: |          | 0/? [00:00<?, ?it/s]",
      "application/vnd.jupyter.widget-view+json": {
       "version_major": 2,
       "version_minor": 0,
       "model_id": "16a6995894d84db69d72d607bb6acd48"
      }
     },
     "metadata": {},
     "output_type": "display_data"
    },
    {
     "name": "stderr",
     "output_type": "stream",
     "text": [
      "Applied `l1_unstructured`. Pruned: 19055616/21305684 (89.44%) -> 19167008/21305684 (89.96%)\n"
     ]
    },
    {
     "data": {
      "text/plain": "Validation: |          | 0/? [00:00<?, ?it/s]",
      "application/vnd.jupyter.widget-view+json": {
       "version_major": 2,
       "version_minor": 0,
       "model_id": "d5d1f9b517f94224aadb2636917870aa"
      }
     },
     "metadata": {},
     "output_type": "display_data"
    },
    {
     "name": "stderr",
     "output_type": "stream",
     "text": [
      "Applied `l1_unstructured`. Pruned: 19167008/21305684 (89.96%) -> 19272831/21305684 (90.46%)\n"
     ]
    },
    {
     "data": {
      "text/plain": "Validation: |          | 0/? [00:00<?, ?it/s]",
      "application/vnd.jupyter.widget-view+json": {
       "version_major": 2,
       "version_minor": 0,
       "model_id": "fcfeb76979c4489cba2ab8006276feab"
      }
     },
     "metadata": {},
     "output_type": "display_data"
    },
    {
     "name": "stderr",
     "output_type": "stream",
     "text": [
      "Applied `l1_unstructured`. Pruned: 19272831/21305684 (90.46%) -> 19373357/21305684 (90.93%)\n"
     ]
    },
    {
     "data": {
      "text/plain": "Validation: |          | 0/? [00:00<?, ?it/s]",
      "application/vnd.jupyter.widget-view+json": {
       "version_major": 2,
       "version_minor": 0,
       "model_id": "360188f7886842b0b956e5134da4b1fc"
      }
     },
     "metadata": {},
     "output_type": "display_data"
    },
    {
     "name": "stderr",
     "output_type": "stream",
     "text": [
      "Applied `l1_unstructured`. Pruned: 19373357/21305684 (90.93%) -> 19468849/21305684 (91.38%)\n"
     ]
    },
    {
     "data": {
      "text/plain": "Validation: |          | 0/? [00:00<?, ?it/s]",
      "application/vnd.jupyter.widget-view+json": {
       "version_major": 2,
       "version_minor": 0,
       "model_id": "f4dbf899211b4903820da0e2daa15dea"
      }
     },
     "metadata": {},
     "output_type": "display_data"
    },
    {
     "name": "stderr",
     "output_type": "stream",
     "text": [
      "Applied `l1_unstructured`. Pruned: 19468849/21305684 (91.38%) -> 19559556/21305684 (91.80%)\n"
     ]
    },
    {
     "data": {
      "text/plain": "Validation: |          | 0/? [00:00<?, ?it/s]",
      "application/vnd.jupyter.widget-view+json": {
       "version_major": 2,
       "version_minor": 0,
       "model_id": "b64fbeea101f420ab7b42dae50620fba"
      }
     },
     "metadata": {},
     "output_type": "display_data"
    },
    {
     "name": "stderr",
     "output_type": "stream",
     "text": [
      "Applied `l1_unstructured`. Pruned: 19559556/21305684 (91.80%) -> 19645738/21305684 (92.21%)\n",
      "`Trainer.fit` stopped: `max_epochs=50` reached.\n",
      "LOCAL_RANK: 0 - CUDA_VISIBLE_DEVICES: [0]\n"
     ]
    },
    {
     "data": {
      "text/plain": "Testing: |          | 0/? [00:00<?, ?it/s]",
      "application/vnd.jupyter.widget-view+json": {
       "version_major": 2,
       "version_minor": 0,
       "model_id": "665517b044a94252a3796be86f1b9ef5"
      }
     },
     "metadata": {},
     "output_type": "display_data"
    },
    {
     "data": {
      "text/plain": "┏━━━━━━━━━━━━━━━━━━━━━━━━━━━┳━━━━━━━━━━━━━━━━━━━━━━━━━━━┓\n┃\u001B[1m \u001B[0m\u001B[1m       Test metric       \u001B[0m\u001B[1m \u001B[0m┃\u001B[1m \u001B[0m\u001B[1m      DataLoader 0       \u001B[0m\u001B[1m \u001B[0m┃\n┡━━━━━━━━━━━━━━━━━━━━━━━━━━━╇━━━━━━━━━━━━━━━━━━━━━━━━━━━┩\n│\u001B[36m \u001B[0m\u001B[36m        test_acc         \u001B[0m\u001B[36m \u001B[0m│\u001B[35m \u001B[0m\u001B[35m   0.8443999886512756    \u001B[0m\u001B[35m \u001B[0m│\n│\u001B[36m \u001B[0m\u001B[36m        test_loss        \u001B[0m\u001B[36m \u001B[0m│\u001B[35m \u001B[0m\u001B[35m   0.44882017374038696   \u001B[0m\u001B[35m \u001B[0m│\n└───────────────────────────┴───────────────────────────┘\n",
      "text/html": "<pre style=\"white-space:pre;overflow-x:auto;line-height:normal;font-family:Menlo,'DejaVu Sans Mono',consolas,'Courier New',monospace\">┏━━━━━━━━━━━━━━━━━━━━━━━━━━━┳━━━━━━━━━━━━━━━━━━━━━━━━━━━┓\n┃<span style=\"font-weight: bold\">        Test metric        </span>┃<span style=\"font-weight: bold\">       DataLoader 0        </span>┃\n┡━━━━━━━━━━━━━━━━━━━━━━━━━━━╇━━━━━━━━━━━━━━━━━━━━━━━━━━━┩\n│<span style=\"color: #008080; text-decoration-color: #008080\">         test_acc          </span>│<span style=\"color: #800080; text-decoration-color: #800080\">    0.8443999886512756     </span>│\n│<span style=\"color: #008080; text-decoration-color: #008080\">         test_loss         </span>│<span style=\"color: #800080; text-decoration-color: #800080\">    0.44882017374038696    </span>│\n└───────────────────────────┴───────────────────────────┘\n</pre>\n"
     },
     "metadata": {},
     "output_type": "display_data"
    },
    {
     "data": {
      "text/plain": "<Figure size 640x480 with 1 Axes>",
      "image/png": "[encoded data removed]"
     },
     "metadata": {},
     "output_type": "display_data"
    }
   ],
   "source": [
    "from lightning.pytorch.callbacks import ModelCheckpoint\n",
    "\n",
    "# Define the ModelCheckpoint callback\n",
    "checkpoint_callback = ModelCheckpoint(\n",
    "    dirpath=\"./\",\n",
    "    filename=\"best_model\",\n",
    "    monitor=\"val_acc\",\n",
    "    mode=\"max\",\n",
    "    save_top_k=1,\n",
    "    verbose=False,\n",
    ")\n",
    "\n",
    "# Define the ModelPruning callback\n",
    "pruning_callback = ModelPruning(\n",
    "    pruning_fn=\"l1_unstructured\",\n",
    "    parameter_names=['weight', 'bias'],\n",
    "    amount=0.05,\n",
    "    verbose=1,  # Set verbosity level\n",
    "    use_global_unstructured=False,\n",
    ")\n",
    "\n",
    "# Create the Trainer with the ModelCheckpoint callback\n",
    "trainer = L.Trainer(\n",
    "    max_epochs=15,\n",
    "    callbacks=[checkpoint_callback],\n",
    "    log_every_n_steps=1000,\n",
    ")\n",
    "\n",
    "tuner = Tuner(trainer)\n",
    "\n",
    "lr_finder = tuner.lr_find(model)\n",
    "\n",
    "lr_finder.plot(suggest=True)\n",
    "\n",
    "del lr_finder, tuner\n",
    "\n",
    "# Train the model without pruning\n",
    "trainer.fit(model)\n",
    "\n",
    "# Load the best model checkpoint\n",
    "best_model_path = checkpoint_callback.best_model_path\n",
    "model = ResNet.load_from_checkpoint(best_model_path)\n",
    "\n",
    "# Create a new Trainer with the ModelPruning callback\n",
    "pruning_trainer = L.Trainer(\n",
    "    max_epochs=50,  # Adjust the number of epochs for fine-tuning after pruning\n",
    "    callbacks=[pruning_callback],\n",
    "    log_every_n_steps=1000,\n",
    ")\n",
    "\n",
    "# Fine-tune the model with pruning\n",
    "pruning_trainer.fit(model)\n",
    "\n",
    "res = pruning_trainer.test(model)"
   ],
   "metadata": {
    "collapsed": false,
    "ExecuteTime": {
     "end_time": "2024-03-29T03:29:20.291786Z",
     "start_time": "2024-03-29T03:21:30.062523Z"
    }
   },
   "id": "e9ce8463a748f4bb",
   "execution_count": 4
  },
  {
   "cell_type": "code",
   "outputs": [
    {
     "data": {
      "text/plain": "[{'test_loss': 0.44882017374038696, 'test_acc': 0.8443999886512756}]"
     },
     "execution_count": 5,
     "metadata": {},
     "output_type": "execute_result"
    }
   ],
   "source": [
    "res"
   ],
   "metadata": {
    "collapsed": false,
    "ExecuteTime": {
     "end_time": "2024-03-29T03:29:20.307790Z",
     "start_time": "2024-03-29T03:29:20.293787Z"
    }
   },
   "id": "f6cd1cde94edaec3",
   "execution_count": 5
  },
  {
   "cell_type": "markdown",
   "source": [
    "### Check sparsity for pruning"
   ],
   "metadata": {
    "collapsed": false
   },
   "id": "aba48f27fae29363"
  },
  {
   "cell_type": "code",
   "outputs": [
    {
     "data": {
      "text/plain": "0.9230488538742065"
     },
     "execution_count": 6,
     "metadata": {},
     "output_type": "execute_result"
    }
   ],
   "source": [
    "calculate_sparsity(model)  # it's from pruned model! "
   ],
   "metadata": {
    "collapsed": false,
    "ExecuteTime": {
     "end_time": "2024-03-29T03:29:20.339797Z",
     "start_time": "2024-03-29T03:29:20.308791Z"
    }
   },
   "id": "5ea0804d4a758bd6",
   "execution_count": 6
  },
  {
   "cell_type": "code",
   "outputs": [
    {
     "data": {
      "text/plain": "1.4095405731495703e-07"
     },
     "execution_count": 7,
     "metadata": {},
     "output_type": "execute_result"
    }
   ],
   "source": [
    "model = ResNet.load_from_checkpoint('mnist.model')\n",
    "model.eval()\n",
    "calculate_sparsity(model)"
   ],
   "metadata": {
    "collapsed": false,
    "ExecuteTime": {
     "end_time": "2024-03-29T03:29:20.595363Z",
     "start_time": "2024-03-29T03:29:20.340797Z"
    }
   },
   "id": "4e112178152e32bb",
   "execution_count": 7
  },
  {
   "cell_type": "markdown",
   "source": [
    "### There are metrix and recorded as pruning amount 0 to 99 percent.\n",
    "let's look at that."
   ],
   "metadata": {
    "collapsed": false
   },
   "id": "47c746f1e31f8c6b"
  },
  {
   "cell_type": "code",
   "outputs": [
    {
     "data": {
      "text/plain": "     epoch  val_acc\n0        0   0.9706\n2        1   0.9810\n4        2   0.9785\n6        3   0.9796\n8        4   0.9776\n10       5   0.9829\n12       6   0.9820\n14       7   0.9814\n16       8   0.9840\n18       9   0.9826\n20      10   0.9831\n22      11   0.9843\n24      12   0.9836\n26      13   0.9838\n28      14   0.9844\n30      15   0.9853\n33      16   0.9829\n35      17   0.9849\n37      18   0.9805\n39      19   0.9848\n41      20   0.9826\n43      21   0.9821\n45      22   0.9800\n47      23   0.9813\n49      24   0.9830\n51      25   0.9805\n53      26   0.9809\n55      27   0.9801\n57      28   0.9792\n59      29   0.9765\n61      30   0.9755\n63      31   0.9719\n65      32   0.9686\n68      33   0.9669\n70      34   0.9623\n72      35   0.9668\n74      36   0.9682\n76      37   0.9674\n78      38   0.9663\n80      39   0.9647\n82      40   0.9659\n84      41   0.9644\n86      42   0.9623\n88      43   0.9624\n90      44   0.9617\n92      45   0.9589\n94      46   0.9524\n96      47   0.9525\n98      48   0.9508\n100     49   0.9529",
      "text/html": "<div>\n<style scoped>\n    .dataframe tbody tr th:only-of-type {\n        vertical-align: middle;\n    }\n\n    .dataframe tbody tr th {\n        vertical-align: top;\n    }\n\n    .dataframe thead th {\n        text-align: right;\n    }\n</style>\n<table border=\"1\" class=\"dataframe\">\n  <thead>\n    <tr style=\"text-align: right;\">\n      <th></th>\n      <th>epoch</th>\n      <th>val_acc</th>\n    </tr>\n  </thead>\n  <tbody>\n    <tr>\n      <th>0</th>\n      <td>0</td>\n      <td>0.9706</td>\n    </tr>\n    <tr>\n      <th>2</th>\n      <td>1</td>\n      <td>0.9810</td>\n    </tr>\n    <tr>\n      <th>4</th>\n      <td>2</td>\n      <td>0.9785</td>\n    </tr>\n    <tr>\n      <th>6</th>\n      <td>3</td>\n      <td>0.9796</td>\n    </tr>\n    <tr>\n      <th>8</th>\n      <td>4</td>\n      <td>0.9776</td>\n    </tr>\n    <tr>\n      <th>10</th>\n      <td>5</td>\n      <td>0.9829</td>\n    </tr>\n    <tr>\n      <th>12</th>\n      <td>6</td>\n      <td>0.9820</td>\n    </tr>\n    <tr>\n      <th>14</th>\n      <td>7</td>\n      <td>0.9814</td>\n    </tr>\n    <tr>\n      <th>16</th>\n      <td>8</td>\n      <td>0.9840</td>\n    </tr>\n    <tr>\n      <th>18</th>\n      <td>9</td>\n      <td>0.9826</td>\n    </tr>\n    <tr>\n      <th>20</th>\n      <td>10</td>\n      <td>0.9831</td>\n    </tr>\n    <tr>\n      <th>22</th>\n      <td>11</td>\n      <td>0.9843</td>\n    </tr>\n    <tr>\n      <th>24</th>\n      <td>12</td>\n      <td>0.9836</td>\n    </tr>\n    <tr>\n      <th>26</th>\n      <td>13</td>\n      <td>0.9838</td>\n    </tr>\n    <tr>\n      <th>28</th>\n      <td>14</td>\n      <td>0.9844</td>\n    </tr>\n    <tr>\n      <th>30</th>\n      <td>15</td>\n      <td>0.9853</td>\n    </tr>\n    <tr>\n      <th>33</th>\n      <td>16</td>\n      <td>0.9829</td>\n    </tr>\n    <tr>\n      <th>35</th>\n      <td>17</td>\n      <td>0.9849</td>\n    </tr>\n    <tr>\n      <th>37</th>\n      <td>18</td>\n      <td>0.9805</td>\n    </tr>\n    <tr>\n      <th>39</th>\n      <td>19</td>\n      <td>0.9848</td>\n    </tr>\n    <tr>\n      <th>41</th>\n      <td>20</td>\n      <td>0.9826</td>\n    </tr>\n    <tr>\n      <th>43</th>\n      <td>21</td>\n      <td>0.9821</td>\n    </tr>\n    <tr>\n      <th>45</th>\n      <td>22</td>\n      <td>0.9800</td>\n    </tr>\n    <tr>\n      <th>47</th>\n      <td>23</td>\n      <td>0.9813</td>\n    </tr>\n    <tr>\n      <th>49</th>\n      <td>24</td>\n      <td>0.9830</td>\n    </tr>\n    <tr>\n      <th>51</th>\n      <td>25</td>\n      <td>0.9805</td>\n    </tr>\n    <tr>\n      <th>53</th>\n      <td>26</td>\n      <td>0.9809</td>\n    </tr>\n    <tr>\n      <th>55</th>\n      <td>27</td>\n      <td>0.9801</td>\n    </tr>\n    <tr>\n      <th>57</th>\n      <td>28</td>\n      <td>0.9792</td>\n    </tr>\n    <tr>\n      <th>59</th>\n      <td>29</td>\n      <td>0.9765</td>\n    </tr>\n    <tr>\n      <th>61</th>\n      <td>30</td>\n      <td>0.9755</td>\n    </tr>\n    <tr>\n      <th>63</th>\n      <td>31</td>\n      <td>0.9719</td>\n    </tr>\n    <tr>\n      <th>65</th>\n      <td>32</td>\n      <td>0.9686</td>\n    </tr>\n    <tr>\n      <th>68</th>\n      <td>33</td>\n      <td>0.9669</td>\n    </tr>\n    <tr>\n      <th>70</th>\n      <td>34</td>\n      <td>0.9623</td>\n    </tr>\n    <tr>\n      <th>72</th>\n      <td>35</td>\n      <td>0.9668</td>\n    </tr>\n    <tr>\n      <th>74</th>\n      <td>36</td>\n      <td>0.9682</td>\n    </tr>\n    <tr>\n      <th>76</th>\n      <td>37</td>\n      <td>0.9674</td>\n    </tr>\n    <tr>\n      <th>78</th>\n      <td>38</td>\n      <td>0.9663</td>\n    </tr>\n    <tr>\n      <th>80</th>\n      <td>39</td>\n      <td>0.9647</td>\n    </tr>\n    <tr>\n      <th>82</th>\n      <td>40</td>\n      <td>0.9659</td>\n    </tr>\n    <tr>\n      <th>84</th>\n      <td>41</td>\n      <td>0.9644</td>\n    </tr>\n    <tr>\n      <th>86</th>\n      <td>42</td>\n      <td>0.9623</td>\n    </tr>\n    <tr>\n      <th>88</th>\n      <td>43</td>\n      <td>0.9624</td>\n    </tr>\n    <tr>\n      <th>90</th>\n      <td>44</td>\n      <td>0.9617</td>\n    </tr>\n    <tr>\n      <th>92</th>\n      <td>45</td>\n      <td>0.9589</td>\n    </tr>\n    <tr>\n      <th>94</th>\n      <td>46</td>\n      <td>0.9524</td>\n    </tr>\n    <tr>\n      <th>96</th>\n      <td>47</td>\n      <td>0.9525</td>\n    </tr>\n    <tr>\n      <th>98</th>\n      <td>48</td>\n      <td>0.9508</td>\n    </tr>\n    <tr>\n      <th>100</th>\n      <td>49</td>\n      <td>0.9529</td>\n    </tr>\n  </tbody>\n</table>\n</div>"
     },
     "execution_count": 10,
     "metadata": {},
     "output_type": "execute_result"
    }
   ],
   "source": [
    "df = pd.read_csv('lightning_logs/version_3/metrics.csv')\n",
    "\n",
    "df = df[['epoch', 'val_acc']]\n",
    "\n",
    "df.dropna(inplace=True)\n",
    "df"
   ],
   "metadata": {
    "collapsed": false,
    "ExecuteTime": {
     "end_time": "2024-03-29T03:37:28.368150Z",
     "start_time": "2024-03-29T03:37:28.358148Z"
    }
   },
   "id": "f4b00f3fdebc3dba",
   "execution_count": 10
  },
  {
   "cell_type": "code",
   "outputs": [
    {
     "data": {
      "text/plain": "[<matplotlib.lines.Line2D at 0x20d198a5450>]"
     },
     "execution_count": 11,
     "metadata": {},
     "output_type": "execute_result"
    },
    {
     "data": {
      "text/plain": "<Figure size 640x480 with 1 Axes>",
      "image/png": "[encoded data removed]"
     },
     "metadata": {},
     "output_type": "display_data"
    }
   ],
   "source": [
    "plt.plot(df['epoch'], df['val_acc'])"
   ],
   "metadata": {
    "collapsed": false,
    "ExecuteTime": {
     "end_time": "2024-03-29T03:37:29.509791Z",
     "start_time": "2024-03-29T03:37:29.410264Z"
    }
   },
   "id": "95fcc1f7b0452b28",
   "execution_count": 11
  },
  {
   "cell_type": "markdown",
   "source": [
    "### The performance was not very dropped."
   ],
   "metadata": {
    "collapsed": false
   },
   "id": "b91358a6b55f39e5"
  },
  {
   "cell_type": "code",
   "outputs": [],
   "source": [
    "# save the pruned model.\n",
    "pruning_trainer.save_checkpoint('mnist_pruning.model')"
   ],
   "metadata": {
    "collapsed": false,
    "ExecuteTime": {
     "end_time": "2024-03-29T03:38:26.884033Z",
     "start_time": "2024-03-29T03:38:26.160003Z"
    }
   },
   "id": "1c37898970e8e31c",
   "execution_count": 12
  },
  {
   "cell_type": "code",
   "outputs": [],
   "source": [
    "del model, pruning_trainer, trainer, df"
   ],
   "metadata": {
    "collapsed": false,
    "ExecuteTime": {
     "end_time": "2024-03-29T03:40:46.124397Z",
     "start_time": "2024-03-29T03:40:46.093553Z"
    }
   },
   "id": "508cf3f0cc8f1b6d",
   "execution_count": 13
  },
  {
   "cell_type": "code",
   "outputs": [
    {
     "data": {
      "text/plain": "0.9230488538742065"
     },
     "execution_count": 14,
     "metadata": {},
     "output_type": "execute_result"
    }
   ],
   "source": [
    "model = ResNet.load_from_checkpoint('mnist_pruning.model')\n",
    "model.eval()"
   ],
   "metadata": {
    "collapsed": false,
    "ExecuteTime": {
     "end_time": "2024-03-29T03:40:52.034917Z",
     "start_time": "2024-03-29T03:40:51.629752Z"
    }
   },
   "id": "d32e89d12b16c0d",
   "execution_count": 14
  },
  {
   "cell_type": "code",
   "outputs": [
    {
     "name": "stderr",
     "output_type": "stream",
     "text": [
      "GPU available: True (cuda), used: True\n",
      "TPU available: False, using: 0 TPU cores\n",
      "IPU available: False, using: 0 IPUs\n",
      "HPU available: False, using: 0 HPUs\n",
      "LOCAL_RANK: 0 - CUDA_VISIBLE_DEVICES: [0]\n"
     ]
    },
    {
     "data": {
      "text/plain": "Testing: |          | 0/? [00:00<?, ?it/s]",
      "application/vnd.jupyter.widget-view+json": {
       "version_major": 2,
       "version_minor": 0,
       "model_id": "59aca074e1104cd699a5c3fff5b76984"
      }
     },
     "metadata": {},
     "output_type": "display_data"
    },
    {
     "data": {
      "text/plain": "┏━━━━━━━━━━━━━━━━━━━━━━━━━━━┳━━━━━━━━━━━━━━━━━━━━━━━━━━━┓\n┃\u001B[1m \u001B[0m\u001B[1m       Test metric       \u001B[0m\u001B[1m \u001B[0m┃\u001B[1m \u001B[0m\u001B[1m      DataLoader 0       \u001B[0m\u001B[1m \u001B[0m┃\n┡━━━━━━━━━━━━━━━━━━━━━━━━━━━╇━━━━━━━━━━━━━━━━━━━━━━━━━━━┩\n│\u001B[36m \u001B[0m\u001B[36m        test_acc         \u001B[0m\u001B[36m \u001B[0m│\u001B[35m \u001B[0m\u001B[35m   0.8443999886512756    \u001B[0m\u001B[35m \u001B[0m│\n│\u001B[36m \u001B[0m\u001B[36m        test_loss        \u001B[0m\u001B[36m \u001B[0m│\u001B[35m \u001B[0m\u001B[35m   0.44882017374038696   \u001B[0m\u001B[35m \u001B[0m│\n└───────────────────────────┴───────────────────────────┘\n",
      "text/html": "<pre style=\"white-space:pre;overflow-x:auto;line-height:normal;font-family:Menlo,'DejaVu Sans Mono',consolas,'Courier New',monospace\">┏━━━━━━━━━━━━━━━━━━━━━━━━━━━┳━━━━━━━━━━━━━━━━━━━━━━━━━━━┓\n┃<span style=\"font-weight: bold\">        Test metric        </span>┃<span style=\"font-weight: bold\">       DataLoader 0        </span>┃\n┡━━━━━━━━━━━━━━━━━━━━━━━━━━━╇━━━━━━━━━━━━━━━━━━━━━━━━━━━┩\n│<span style=\"color: #008080; text-decoration-color: #008080\">         test_acc          </span>│<span style=\"color: #800080; text-decoration-color: #800080\">    0.8443999886512756     </span>│\n│<span style=\"color: #008080; text-decoration-color: #008080\">         test_loss         </span>│<span style=\"color: #800080; text-decoration-color: #800080\">    0.44882017374038696    </span>│\n└───────────────────────────┴───────────────────────────┘\n</pre>\n"
     },
     "metadata": {},
     "output_type": "display_data"
    },
    {
     "data": {
      "text/plain": "[{'test_loss': 0.44882017374038696, 'test_acc': 0.8443999886512756}]"
     },
     "execution_count": 16,
     "metadata": {},
     "output_type": "execute_result"
    }
   ],
   "source": [
    "test_trainer = L.Trainer(\n",
    "    max_epochs=50,  # Adjust the number of epochs for fine-tuning after pruning\n",
    "    callbacks=[pruning_callback],\n",
    "    log_every_n_steps=1000,\n",
    ")\n",
    "\n",
    "test_trainer.test(model)"
   ],
   "metadata": {
    "collapsed": false,
    "ExecuteTime": {
     "end_time": "2024-03-29T03:46:19.352868Z",
     "start_time": "2024-03-29T03:46:13.811197Z"
    }
   },
   "id": "cfe5bf070716f907",
   "execution_count": 16
  },
  {
   "cell_type": "code",
   "outputs": [
    {
     "data": {
      "text/plain": "0.9230488538742065"
     },
     "execution_count": 17,
     "metadata": {},
     "output_type": "execute_result"
    }
   ],
   "source": [
    "calculate_sparsity(model)"
   ],
   "metadata": {
    "collapsed": false,
    "ExecuteTime": {
     "end_time": "2024-03-29T03:46:37.746419Z",
     "start_time": "2024-03-29T03:46:37.694902Z"
    }
   },
   "id": "f0b2662da39e57b4",
   "execution_count": 17
  },
  {
   "cell_type": "code",
   "outputs": [],
   "source": [],
   "metadata": {
    "collapsed": false
   },
   "id": "1a6eae7ed059a928"
  }
 ],
 "metadata": {
  "kernelspec": {
   "display_name": "Python 3",
   "language": "python",
   "name": "python3"
  },
  "language_info": {
   "codemirror_mode": {
    "name": "ipython",
    "version": 2
   },
   "file_extension": ".py",
   "mimetype": "text/x-python",
   "name": "python",
   "nbconvert_exporter": "python",
   "pygments_lexer": "ipython2",
   "version": "2.7.6"
  }
 },
 "nbformat": 4,
 "nbformat_minor": 5
}
